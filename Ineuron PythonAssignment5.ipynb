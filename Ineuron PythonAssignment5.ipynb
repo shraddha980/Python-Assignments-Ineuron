{
 "cells": [
  {
   "cell_type": "markdown",
   "id": "6c153771",
   "metadata": {},
   "source": [
    "Q1. What is the meaning of multiple inheritance?"
   ]
  },
  {
   "cell_type": "markdown",
   "id": "92202aa9",
   "metadata": {},
   "source": [
    "Multiple inheritance a feature of some object-oriented programming languages in which a class or an object inherits characteristics and properties from more than one parent class or object. This is contrary to the single inheritance property, which allows an object or class to inherit from one specific object or class. Although there are certain benefits associated with multiple inheritance, it does increase ambiguity and complexity when not designed or implemented properly.\n",
    "\n",
    "Unlike single inheritance, multiple inheritance has symmetrical merging and asymmetric extension from an inheritance perspective. When the characteristics of one set do not depend on the characteristics of the other set, multiple inheritance is likely to be more advantageous. In other words, multiple inheritance is more useful when the separation of characteristics of objects into orthogonal sets is possible. Multiple inheritance is useful in the case of an adapter pattern. It allows for one interface to be adapted by another. Another benefit of multiple inheritance is associated with the observer pattern. In this pattern, the calls can keep a list of functions/observers that can be notified by some change by calling one of the functions. Examples of programming languages which support multiple inheritance are C++, Python, Perl, Eiffel, Dylan, Curl, Eulisp and Tcl. Java is one of the most prominent programming languages which does not support multiple inheritance.\n",
    "\n",
    "However, there are some drawbacks associated with multiple inheritance. The feature complicates the method dispatch and also brings additional scrutiny to the application. Multiple inheritance would need the awareness of dependencies, especially related to method selections. Moreover, protocols using multiple inheritance would need more documentation than those using single inheritance."
   ]
  },
  {
   "cell_type": "markdown",
   "id": "8f79f55a",
   "metadata": {},
   "source": [
    "Q2. What is the concept of delegation?"
   ]
  },
  {
   "cell_type": "markdown",
   "id": "0c9c52c1",
   "metadata": {},
   "source": [
    "Delegation is like passing a job to someone else. In Python, you can do this by using a method called __getattr()__. It's almost like asking one object to do a task for another object, just like a subclass asking its parent class for help. \n",
    "\n",
    "__getattr__\n",
    "Called when an attribute lookup has not found the attribute in the usual places (i.e. it is not an instance attribute nor is it found in the class tree for self). name is the attribute name. This method should return the (computed) attribute value or raise an AttributeError exception.\n",
    "\n",
    "Note that if the attribute is found through the normal mechanism, __getattr__() is not called. (This is an intentional asymmetry between __getattr__() and __setattr__().) This is done both for efficiency reasons and because otherwise __getattr__() would have no way to access other attributes of the instance. Note that at least for instance variables, you can fake total control by not inserting any values in the instance attribute dictionary (but instead inserting them in another object). See the __getattribute__() method below for a way to actually get total control in new-style classes.\n",
    "\n",
    "__getattribute__\n",
    "Called unconditionally to implement attribute accesses for instances of the class. If the class also defines __getattr__(), the latter will not be called unless __getattribute__() either calls it explicitly or raises an AttributeError. This method should return the (computed) attribute value or raise an AttributeError exception. In order to avoid infinite recursion in this method, its implementation should always call the base class method with the same name to access any attributes it needs, for example, object.__getattribute__(self, name)."
   ]
  },
  {
   "cell_type": "markdown",
   "id": "93701daa",
   "metadata": {},
   "source": [
    "Q3. What is the concept of composition?"
   ]
  },
  {
   "cell_type": "markdown",
   "id": "c31274d2",
   "metadata": {},
   "source": [
    "Composition is an object-oriented design concept that models a has a relationship. In composition, a class known as composite contains an object, or component, of another class. In other words, a composite class has a component of another class.\n",
    "\n",
    "Composition allows composite classes to reuse the implementation of the components it contains. The composite class doesn’t inherit the component class interface, but it can leverage its implementation.\n",
    "\n",
    "The composition relation between two classes is considered loosely coupled. That means that changes to the component class rarely affect the composite class, and changes to the composite class never affect the component class.\n",
    "\n",
    "This provides better adaptability to change and allows applications to introduce new requirements without affecting existing code."
   ]
  },
  {
   "cell_type": "markdown",
   "id": "b1c7853f",
   "metadata": {},
   "source": [
    "Q4. What are bound methods and how do we use them?"
   ]
  },
  {
   "cell_type": "markdown",
   "id": "749c902c",
   "metadata": {},
   "source": [
    "If a function is an attribute of class and it is accessed via the instances, they are called bound methods. A bound method is one that has ‘self‘ as its first argument. Since these are dependent on the instance of classes, these are also known as instance methods.\n",
    "\n",
    "Need for these bound methods\n",
    "The methods inside the classes would take at least one argument. To make them zero-argument methods, ‘decorators‘ has to be used. Different instances of a class have different values associated with them.\n",
    "\n",
    "For example, if there is a class “Fruits”, and instances like apple, orange, mango are possible. Each instance may have different size, color, taste, and nutrients in it. Thus to alter any value for a specific instance, the method must have ‘self’ as an argument that allows it to alter only its property.\n",
    "\n",
    "Methods that do not have an instance of the class as the first argument are known as unbound methods. As of Python 3.0, the unbound methods have been removed from the language. They are not bounded with any specific object of the class. To make the method myFunc2() work in the above class it should be made into a static method\n",
    "\n",
    "Static methods are similar to class methods but are bound completely to class instead of particular objects. They are accessed using class names.\n",
    "\n",
    "Need for making a method static\n",
    "Not all the methods need to alter the instances of a class. They might serve any common purpose. A method may be a utility function also.\n",
    "\n",
    "For example, When we need to use certain mathematical functions, we use the built in class Math. The methods in this class are made static because they have nothing to do with specific objects. They do common actions.\n",
    "\n",
    "A method can be made static in two ways:\n",
    "\n",
    "Using staticmethod()\n",
    "Using decorator\n",
    "\n",
    "Using staticmethod(): The staticmethod() function takes the function to be converted as its argument and returns the static version of that function. A static function knows nothing about the class, it just works with the parameters passed to it.\n",
    "Using decorators: These are features of Python used for modifying one part of the program using another part of the program at the time of compilation. The decorator that can be used to make a method static is\n",
    "\n",
    "@staticmethod\n",
    "This informs the built-in default metaclass not to create any bound methods for this method. Once this line is added before a function, the function can be called using the class name. Consider the example taken for the Bound method where we encountered an error."
   ]
  },
  {
   "cell_type": "markdown",
   "id": "7a69084d",
   "metadata": {},
   "source": [
    "Q5. What is the purpose of pseudoprivate attributes?"
   ]
  },
  {
   "cell_type": "markdown",
   "id": "94007297",
   "metadata": {},
   "source": [
    "Pseudo-private attributes\n",
    "\n",
    " \n",
    "\n",
    "♦     Data hiding is a convention (until Python1.5 or later)\n",
    "\n",
    "♦     “We’re all consenting adults” –Python’s BDFL\n",
    "\n",
    "♦      name mangling: “self.__X” → “self._Class__X”\n",
    "\n",
    "♦     Class name prefix makes names unique in “self” instance\n",
    "\n",
    "♦     Only works in class, and only if at most 1 trailing “_”\n",
    "\n",
    "♦      Mostly for larger, multi-programmer, OO projects\n",
    "\n",
    "♦     See __getattr__ above for implementing full privacy"
   ]
  },
  {
   "cell_type": "markdown",
   "id": "b2636163",
   "metadata": {},
   "source": []
  },
  {
   "cell_type": "markdown",
   "id": "bcde03c1",
   "metadata": {},
   "source": []
  },
  {
   "cell_type": "markdown",
   "id": "da8b55cf",
   "metadata": {},
   "source": []
  },
  {
   "cell_type": "markdown",
   "id": "53a70432",
   "metadata": {},
   "source": []
  },
  {
   "cell_type": "markdown",
   "id": "066f6316",
   "metadata": {},
   "source": []
  },
  {
   "cell_type": "markdown",
   "id": "bd51ddf4",
   "metadata": {},
   "source": []
  },
  {
   "cell_type": "markdown",
   "id": "41ca2717",
   "metadata": {},
   "source": []
  },
  {
   "cell_type": "markdown",
   "id": "d07db058",
   "metadata": {},
   "source": []
  },
  {
   "cell_type": "markdown",
   "id": "e7a89f74",
   "metadata": {},
   "source": []
  },
  {
   "cell_type": "markdown",
   "id": "9af69c0c",
   "metadata": {},
   "source": []
  },
  {
   "cell_type": "markdown",
   "id": "30453a35",
   "metadata": {},
   "source": []
  },
  {
   "cell_type": "markdown",
   "id": "9f89b027",
   "metadata": {},
   "source": []
  },
  {
   "cell_type": "markdown",
   "id": "e51e90cf",
   "metadata": {},
   "source": []
  },
  {
   "cell_type": "markdown",
   "id": "81559f60",
   "metadata": {},
   "source": []
  },
  {
   "cell_type": "code",
   "execution_count": null,
   "id": "93cb72e6",
   "metadata": {},
   "outputs": [],
   "source": []
  },
  {
   "cell_type": "code",
   "execution_count": null,
   "id": "30ae4d16",
   "metadata": {},
   "outputs": [],
   "source": []
  },
  {
   "cell_type": "code",
   "execution_count": null,
   "id": "3cda860b",
   "metadata": {},
   "outputs": [],
   "source": []
  },
  {
   "cell_type": "code",
   "execution_count": null,
   "id": "08ae56fe",
   "metadata": {},
   "outputs": [],
   "source": []
  },
  {
   "cell_type": "code",
   "execution_count": null,
   "id": "ee17a587",
   "metadata": {},
   "outputs": [],
   "source": []
  },
  {
   "cell_type": "code",
   "execution_count": null,
   "id": "0f444e8a",
   "metadata": {},
   "outputs": [],
   "source": []
  },
  {
   "cell_type": "code",
   "execution_count": null,
   "id": "7407a58c",
   "metadata": {},
   "outputs": [],
   "source": []
  },
  {
   "cell_type": "code",
   "execution_count": null,
   "id": "564f6efc",
   "metadata": {},
   "outputs": [],
   "source": []
  },
  {
   "cell_type": "code",
   "execution_count": null,
   "id": "1eb8614c",
   "metadata": {},
   "outputs": [],
   "source": []
  },
  {
   "cell_type": "code",
   "execution_count": null,
   "id": "784127cc",
   "metadata": {},
   "outputs": [],
   "source": []
  }
 ],
 "metadata": {
  "kernelspec": {
   "display_name": "Python 3 (ipykernel)",
   "language": "python",
   "name": "python3"
  },
  "language_info": {
   "codemirror_mode": {
    "name": "ipython",
    "version": 3
   },
   "file_extension": ".py",
   "mimetype": "text/x-python",
   "name": "python",
   "nbconvert_exporter": "python",
   "pygments_lexer": "ipython3",
   "version": "3.10.9"
  }
 },
 "nbformat": 4,
 "nbformat_minor": 5
}
