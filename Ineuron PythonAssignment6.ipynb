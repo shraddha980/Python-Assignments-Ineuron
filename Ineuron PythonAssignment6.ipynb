{
 "cells": [
  {
   "cell_type": "markdown",
   "id": "62a611dd",
   "metadata": {},
   "source": [
    "Q1. Describe three applications for exception processing."
   ]
  },
  {
   "cell_type": "markdown",
   "id": "1ea212a5",
   "metadata": {},
   "source": [
    "When an exception occurs, the current instruction stream cannot continue. If you ignore the exception, the results of executing the instruction may become undefined. Further execution of the program may cause unpredictable results.\n",
    "\n",
    "The kernel provides a default exception-handling mechanism by which an instruction stream (a process- or interrupt-level program) can specify what action is to be taken when an exception occurs. Exceptions are handled differently depending on whether they occurred while executing in kernel mode or user mode.\n",
    "\n",
    "Exception handling in kernel mode extends the setjump and longjump subroutines context-save-and-restore mechanism.\n",
    "\n",
    "Exception handling in kernel mode extends these subroutines mechanism by providing setjmpx and longjmpx kernel services to handle exceptions. The traditional system mechanism is extended by allowing these exception handlers (or context-save checkpoints) to be stacked on a per-process or per-interrupt handler basis.\n",
    "\n",
    "This stacking mechanism allows the execution point and context of a process or interrupt handler to be restored to a point in the process or interrupt handler, at the point of return from the setjmpx kernel service. When execution returns to this point, the return code from setjmpx kernel service indicates the type of exception that occurred so that the process or interrupt handler state can be fully restored. Appropriate retry or recovery operations are then invoked by the software performing the operation.\n",
    "\n",
    "When an exception occurs, the kernel first-level exception handler gets control. The first-level exception handler determines what type of exception has occurred and saves information necessary for handling the specific type of exception. For an I/O exception, the first-level handler also enables again the programmed I/O operations.\n",
    "\n",
    "The first-level exception handler then modifies the saved context of the interrupted process or interrupt handler. It does so to execute the longjmpx kernel service when the first-level exception handler returns to the interrupted process or interrupt handler.\n",
    "\n",
    "The longjmpx kernel service executes in the environment of the code that caused the exception and restores the current context from the topmost jump buffer on the stack of saved contexts. As a result, the state of the process or interrupt handler that caused the exception is restored to the point of the return from the setjmpx kernel service. (The return code, nevertheless, indicates that an exception has occurred.)\n",
    "\n",
    "The process or interrupt handler software should then check the return code and invoke exception handling code to restore fully the state of the process or interrupt handler. Additional information about the exception can be obtained by using the getexcept kernel service.\n",
    "\n",
    "An exception handler should perform any necessary clean-up such as freeing storage or segment registers and releasing other resources.\n",
    "\n",
    "Other than performing necessary clean-up, a typical exception handler should do the following:\n",
    "\n",
    "If the exception is recognized by the current handler and can be handled entirely within the routine, the handler should establish itself again by calling the setjmpx kernel service. This allows normal processing to continue.\n",
    "If the exception is not recognized by the current handler, it must be passed to the previously stacked exception handler. The exception is passed by calling the longjmpx kernel service, which either calls the previous handler (if any) or takes the system's default exception-handling mechanism.\n",
    "If the exception is recognized by the current handler but cannot be handled, it is treated as though it is unrecognized. The longjmpx kernel service is called, which either passes the exception along to the previous handler (if any) or takes the system default exception-handling mechanism."
   ]
  },
  {
   "cell_type": "markdown",
   "id": "3f75972d",
   "metadata": {},
   "source": [
    "Q2. What happens if you don't do something extra to treat an exception?"
   ]
  },
  {
   "cell_type": "markdown",
   "id": "3757d3ec",
   "metadata": {},
   "source": [
    "An exception is an issue (run time error) occurred during the execution of a program. For understanding purpose let us look at it in a different manner.\n",
    "\n",
    "Generally, when you compile a program, if it gets compiled without a .class file will be created, this is the executable file in Java, and every time you execute this .class file it is supposed to run successfully executing each line in the program without any issues. But, in some exceptional cases, while executing the program, JVM encounters some ambiguous scenarios where it doesn’t know what to do.\n",
    "\n",
    "When an exception occurred, if you don’t handle it, the program terminates abruptly and the code past the line that caused the exception will not get executed.\n",
    "\n",
    "Generally, an array is of fixed size and each element is accessed using the indices. For example, we have created an array with size 7. Then the valid expressions to access the elements of this array will be a[0] to a[6] (length-1).\n",
    "\n",
    "Whenever, you used an –ve value or, the value greater than or equal to the size of the array, then the ArrayIndexOutOfBoundsException is thrown.\n",
    "\n",
    "For Example, if you execute the following code, it displays the elements in the array asks you to give the index to select an element. Since the size of the array is 7, the valid index will be 0 to 6."
   ]
  },
  {
   "cell_type": "markdown",
   "id": "0be928c8",
   "metadata": {},
   "source": [
    "Q3. What are your options for recovering from an exception in your script?"
   ]
  },
  {
   "cell_type": "markdown",
   "id": "7a3170e0",
   "metadata": {},
   "source": [
    "An Exception is an Unexpected Event, which occurs during the execution of the program. It is also known as a run time error. When that error occurs, Python generates an exception during the execution and that can be handled, which prevents your program from interrupting.\n",
    "\n",
    "Exception handling with try, except, else, and finally\n",
    "Try: This block will test the excepted error to occur\n",
    "Except:  Here you can handle the error\n",
    "Else: If there is no exception then this block will be executed\n",
    "Finally: Finally block always gets executed either exception is generated or not\n",
    "\n",
    "When an error occurs, or exception as we call it, Python will normally stop and generate an error message.\n",
    "\n",
    "These exceptions can be handled using the try statement\n",
    "\n",
    "Since the try block raises an error, the except block will be executed.\n",
    "\n",
    "Without the try block, the program will crash and raise an error\n",
    "\n",
    "You can define as many exception blocks as you want, e.g. if you want to execute a special block of code for a special kind of error"
   ]
  },
  {
   "cell_type": "markdown",
   "id": "0cca8d49",
   "metadata": {},
   "source": [
    "Q4. Describe two methods for triggering exceptions in your script."
   ]
  },
  {
   "cell_type": "markdown",
   "id": "26c17c31",
   "metadata": {},
   "source": [
    "When an error occurs, or exception as we call it, Python will normally stop and generate an error message.\n",
    "\n",
    "These exceptions can be handled using the try statement:\n",
    "The try block will generate an exception, because x is not defined:\n",
    "try:\n",
    "  print(x)\n",
    "except:\n",
    "  print(\"An exception occurred\")\n",
    "  \n",
    "Since the try block raises an error, the except block will be executed.\n",
    "\n",
    "Without the try block, the program will crash and raise an error:\n",
    "print(x)"
   ]
  },
  {
   "cell_type": "markdown",
   "id": "b9ff153a",
   "metadata": {},
   "source": [
    "Q5. Identify two methods for specifying actions to be executed at termination time, regardless of whether or not an exception exists."
   ]
  },
  {
   "cell_type": "markdown",
   "id": "7176e71e",
   "metadata": {},
   "source": [
    "You must be already aware that as a programmer we are supposed to create programming scripts. Scripts are created to carry out specific tasks, and they are meant to finish when those tasks are finished. We have a major issue if a script never ends. For instance, if the script contains an infinite while loop, the code theoretically never finishes and may need to be interrupted externally.\n",
    "\n",
    "Sometimes, we intentionally write a script that is supposed to run infinitely. There is no issue with the infinite loop in this situation because it is intentional. Hence, if the script executes successfully and achieves its intended goals, it is great. But on the other hand, it would create a blunder if the script ends by throwing an error or raising an exception.When we write a Python script, sometimes we realize that there is a need to stop the execution of the script at a certain point during execution. This can be achieved by Python exit commands.\n",
    "\n",
    "Different Ways to End a Program in Python\n",
    "We have got several ways through which we can end a program in Python. They are as stated below:\n",
    "\n",
    "Using KeyboardInterrupt\n",
    "Using sys.exit()\n",
    "Using exit() function\n",
    "Using quit() command\n",
    "Through os._exit() function\n",
    "By handling Uncaught Exceptions\n",
    "Through raise SystemExit\n",
    "\n",
    "Ending Program in Python Using KeyboardInterrupt\n",
    "One of the approaches to ending the program in Python is to manually stop it with keyboard interruption. Python scripts can be stopped using Ctrl + C on Windows, and Ctrl + Z on Unix will pause (freeze) the Python script's execution.\n",
    "\n",
    "Ending Program in Python Using sys.exit()\n",
    "One of the approaches to ending the program in Python is using the sys.exit(). The Python standard library contains the sys module. It offers functions and parameters that are system-specific.\n",
    "\n",
    "exit is a sys module function that simply terminates the Python code. The output that we get from the sys.exit() might be different depending upon the environment we have written the code. Let us look into the syntax of sys.exit().Parameters: The sys.exit() function takes an optional argument that can be any string, integer, or any other object.\n",
    "\n",
    "Now, let us first code and see how do we end the program in Python using the sys.exit().\n",
    "\n",
    "Ending Program in Python Using exit() Command:\n",
    "The exit() function is in-built in Python and is defined in the site.py module. It can be considered as an alias for the quit() command (we will learn ahead in the article). The exit() command works only after the site modules are loaded, and hence it should not be used in the production-level codes.\n",
    "\n",
    "The SystemExit exception is raised by the exit() command. In this case, exit(0) denotes a clean exit without any problems, whereas exit(1) denotes that a problem was caused during the program's termination.\n",
    "\n",
    "Ending Program in Python by using quit() Command\n",
    "The quit() function can be considered an alternative to the exit() function in Python. It is also an in-built Python function that is used to terminate the Python codes.\n",
    "\n",
    "When the system comes across the quit() function, it exits the Python program by closing the Python file itself. The quit() command also requires the site.py module to be imported. The SystemExit exception is raised by the quit() command in the background."
   ]
  },
  {
   "cell_type": "code",
   "execution_count": null,
   "id": "a568f684",
   "metadata": {},
   "outputs": [],
   "source": []
  }
 ],
 "metadata": {
  "kernelspec": {
   "display_name": "Python 3 (ipykernel)",
   "language": "python",
   "name": "python3"
  },
  "language_info": {
   "codemirror_mode": {
    "name": "ipython",
    "version": 3
   },
   "file_extension": ".py",
   "mimetype": "text/x-python",
   "name": "python",
   "nbconvert_exporter": "python",
   "pygments_lexer": "ipython3",
   "version": "3.10.9"
  }
 },
 "nbformat": 4,
 "nbformat_minor": 5
}
