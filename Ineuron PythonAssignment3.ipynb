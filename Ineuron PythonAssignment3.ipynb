{
 "cells": [
  {
   "cell_type": "markdown",
   "id": "9b09ca1f",
   "metadata": {},
   "source": [
    "1. What is the concept of an abstract superclass?"
   ]
  },
  {
   "cell_type": "markdown",
   "id": "1db6753b",
   "metadata": {},
   "source": [
    "Abstract classes are similar to interfaces. You cannot instantiate them, and they may contain a mix of methods declared with or without an implementation. However, with abstract classes, you can declare fields that are not static and final, and define public, protected, and private concrete methods. With interfaces, all fields are automatically public, static, and final, and all methods that you declare or define (as default methods) are public. In addition, you can extend only one class, whether or not it is abstract, whereas you can implement any number of interfaces.\n",
    "\n",
    "Which should you use, abstract classes or interfaces?\n",
    "\n",
    "Consider using abstract classes if any of these statements apply to your situation:\n",
    "You want to share code among several closely related classes.\n",
    "You expect that classes that extend your abstract class have many common methods or fields, or require access modifiers other than public (such as protected and private).\n",
    "You want to declare non-static or non-final fields. This enables you to define methods that can access and modify the state of the object to which they belong.\n",
    "Consider using interfaces if any of these statements apply to your situation:\n",
    "You expect that unrelated classes would implement your interface. For example, the interfaces Comparable and Cloneable are implemented by many unrelated classes.\n",
    "You want to specify the behavior of a particular data type, but not concerned about who implements its behavior.\n",
    "You want to take advantage of multiple inheritance of type.\n",
    "\n",
    "A common superclass for several subclasses.\n",
    "Factor up common behavior\n",
    "Define the methods they all respond to.\n",
    "Methods that subclasses should implement are declared abstract\n",
    "Instances of the subclasses are created, but no instances of the superclass"
   ]
  },
  {
   "cell_type": "markdown",
   "id": "300e0cde",
   "metadata": {},
   "source": [
    "2. What happens when a class statement's top level contains a basic assignment statement?"
   ]
  },
  {
   "cell_type": "markdown",
   "id": "a0d8b005",
   "metadata": {},
   "source": [
    "We create and change variables primarily with the assignment statement. This statement provides an expression and a variable name which will be used to label the value of the expression.The basic assignment statement does more than assign the result of a single expression to a single variable. The assignment satement also copes nicely with assigning multiple variables at one time. The left and right side must have the same number of elements. For example, the following script has several examples of multiple assignment.An assignment statement evaluates the expression list (remember that this can be a single expression or a comma-separated list, the latter yielding a tuple) and assigns the single resulting object to each of the target lists, from left to right.\n",
    "\n",
    "Assignment is defined recursively depending on the form of the target (list). When a target is part of a mutable object (an attribute reference, subscription or slicing), the mutable object must ultimately perform the assignment and decide about its validity, and may raise an exception if the assignment is unacceptable. The rules observed by various types and the exceptions raised are given with the definition of the object types (see section The standard type hierarchy).Assignment of an object to a target list, optionally enclosed in parentheses or square brackets, is recursively defined as follows.\n",
    "\n",
    "If the target list is a single target with no trailing comma, optionally in parentheses, the object is assigned to that target.\n",
    "\n",
    "Else:\n",
    "\n",
    "If the target list contains one target prefixed with an asterisk, called a “starred” target: The object must be an iterable with at least as many items as there are targets in the target list, minus one. The first items of the iterable are assigned, from left to right, to the targets before the starred target. The final items of the iterable are assigned to the targets after the starred target. A list of the remaining items in the iterable is then assigned to the starred target (the list can be empty).\n",
    "\n",
    "Else: The object must be an iterable with the same number of items as there are targets in the target list, and the items are assigned, from left to right, to the corresponding targets."
   ]
  },
  {
   "cell_type": "markdown",
   "id": "89223b64",
   "metadata": {},
   "source": [
    "3. Why does a class need to manually call a superclass's __init__ method?"
   ]
  },
  {
   "cell_type": "markdown",
   "id": "b5f97b64",
   "metadata": {},
   "source": [
    "If the __init__ method of a superclass is not called during object initialization it is likely that that object will end up in an incorrect state."
   ]
  },
  {
   "cell_type": "markdown",
   "id": "d7cce9a7",
   "metadata": {},
   "source": [
    "4. How can you augment, instead of completely replacing, an inherited method?"
   ]
  },
  {
   "cell_type": "markdown",
   "id": "d4bffd6e",
   "metadata": {},
   "source": [
    "A more sophisticated way to augment an inherited method involves forwarding. Message forwarding allows you to augment an inherited method in such a way that it can perform its inherited action and some new action.\n",
    "\n",
    "All three method types can be forwarded (Procedure, Procedure Set and Function). Messages are forwarded by executing a Forward statement. The syntax for forwarding a message is different for each type of method as outlined below:\n",
    "\n",
    "Forwarding Procedure Methods\n",
    "Forward Send {method-name}  {Param1 … ParamN}\n",
    "\n",
    " \n",
    "Forwarding Procedure Set Methods\n",
    "Forward Set {method-name} {Param1 … ParamN}  To {value1 … valueN}\n",
    "\n",
    " \n",
    "Forwarding Function Methods\n",
    "Forward Get {method-name} {Param1 … ParamN} To {receiving-variable}\n",
    "\n",
    "You can see that the syntax for forwarding a message is the same as the syntax for executing a method except that the Forward command is appended to the front of each statement. There is also no object reference when forwarding a method. You are always forwarding the message to the superclass of the current object.\n"
   ]
  },
  {
   "cell_type": "markdown",
   "id": "34529fbd",
   "metadata": {},
   "source": [
    "5. How is the local scope of a class different from that of a function?"
   ]
  },
  {
   "cell_type": "markdown",
   "id": "250ccbdf",
   "metadata": {},
   "source": [
    "A variable created inside a function belongs to the local scope of that function, and can only be used inside that function.\n",
    "\n",
    "A variable created inside a function is available inside that function:\n",
    "\n",
    "def myfunc():\n",
    "  x = 300\n",
    "  print(x)\n",
    "\n",
    "myfunc()\n",
    "\n",
    "Function Inside Function\n",
    "As explained in the example above, the variable x is not available outside the function, but it is available for any function inside the function:\n",
    "\n",
    "The local variable can be accessed from a function within the function:\n",
    "\n",
    "def myfunc():\n",
    "  x = 300\n",
    "  def myinnerfunc():\n",
    "    print(x)\n",
    "  myinnerfunc()\n",
    "\n",
    "myfunc()"
   ]
  },
  {
   "cell_type": "markdown",
   "id": "536f8254",
   "metadata": {},
   "source": []
  },
  {
   "cell_type": "markdown",
   "id": "aef79d55",
   "metadata": {},
   "source": []
  },
  {
   "cell_type": "markdown",
   "id": "51e9f460",
   "metadata": {},
   "source": []
  },
  {
   "cell_type": "markdown",
   "id": "eff4c7b6",
   "metadata": {},
   "source": []
  },
  {
   "cell_type": "markdown",
   "id": "2d825e74",
   "metadata": {},
   "source": []
  },
  {
   "cell_type": "markdown",
   "id": "98b71368",
   "metadata": {},
   "source": []
  },
  {
   "cell_type": "code",
   "execution_count": null,
   "id": "95786575",
   "metadata": {},
   "outputs": [],
   "source": []
  },
  {
   "cell_type": "code",
   "execution_count": null,
   "id": "fd005ae5",
   "metadata": {},
   "outputs": [],
   "source": []
  },
  {
   "cell_type": "code",
   "execution_count": null,
   "id": "bb9ebb5b",
   "metadata": {},
   "outputs": [],
   "source": []
  },
  {
   "cell_type": "code",
   "execution_count": null,
   "id": "aa7a2f1c",
   "metadata": {},
   "outputs": [],
   "source": []
  },
  {
   "cell_type": "code",
   "execution_count": null,
   "id": "3754027c",
   "metadata": {},
   "outputs": [],
   "source": []
  },
  {
   "cell_type": "code",
   "execution_count": null,
   "id": "33fe541d",
   "metadata": {},
   "outputs": [],
   "source": []
  },
  {
   "cell_type": "code",
   "execution_count": null,
   "id": "bb818229",
   "metadata": {},
   "outputs": [],
   "source": []
  },
  {
   "cell_type": "code",
   "execution_count": null,
   "id": "f470c06d",
   "metadata": {},
   "outputs": [],
   "source": []
  },
  {
   "cell_type": "code",
   "execution_count": null,
   "id": "e3e00918",
   "metadata": {},
   "outputs": [],
   "source": []
  },
  {
   "cell_type": "code",
   "execution_count": null,
   "id": "e1a2a082",
   "metadata": {},
   "outputs": [],
   "source": []
  },
  {
   "cell_type": "code",
   "execution_count": null,
   "id": "d47db5e4",
   "metadata": {},
   "outputs": [],
   "source": []
  },
  {
   "cell_type": "code",
   "execution_count": null,
   "id": "eb5f6e29",
   "metadata": {},
   "outputs": [],
   "source": []
  },
  {
   "cell_type": "code",
   "execution_count": null,
   "id": "7b7d6498",
   "metadata": {},
   "outputs": [],
   "source": []
  }
 ],
 "metadata": {
  "kernelspec": {
   "display_name": "Python 3 (ipykernel)",
   "language": "python",
   "name": "python3"
  },
  "language_info": {
   "codemirror_mode": {
    "name": "ipython",
    "version": 3
   },
   "file_extension": ".py",
   "mimetype": "text/x-python",
   "name": "python",
   "nbconvert_exporter": "python",
   "pygments_lexer": "ipython3",
   "version": "3.10.9"
  }
 },
 "nbformat": 4,
 "nbformat_minor": 5
}
