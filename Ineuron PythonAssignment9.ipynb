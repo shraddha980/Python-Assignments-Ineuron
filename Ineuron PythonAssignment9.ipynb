{
 "cells": [
  {
   "cell_type": "markdown",
   "id": "0949fe22",
   "metadata": {},
   "source": [
    "Q1. In Python 3.X, what are the names and functions of string object types?"
   ]
  },
  {
   "cell_type": "markdown",
   "id": "cab85180",
   "metadata": {},
   "source": [
    "capitalize()\tConverts the first character to upper case\n",
    "\n",
    "casefold()\tConverts string into lower case\n",
    "\n",
    "center()\tReturns a centered string\n",
    "\n",
    "count()\tReturns the number of times a specified value occurs in a string\n",
    "\n",
    "encode()\tReturns an encoded version of the string\n",
    "\n",
    "endswith()\tReturns true if the string ends with the specified value\n",
    "\n",
    "expandtabs()\tSets the tab size of the string\n",
    "\n",
    "find()\tSearches the string for a specified value and returns the position of where it was found\n",
    "\n",
    "format()\tFormats specified values in a string\n",
    "\n",
    "format_map()\tFormats specified values in a string\n",
    "\n",
    "index()\tSearches the string for a specified value and returns the position of where it was found\n",
    "\n",
    "join()\tConverts the elements of an iterable into a string\n",
    "\n",
    "lower()\tConverts a string into lower case\n",
    "\n",
    "partition()\tReturns a tuple where the string is parted into three parts\n",
    "\n",
    "split()\tSplits the string at the specified separator, and returns a list\n",
    "\n",
    "startswith()\tReturns true if the string starts with the specified value\n",
    "\n",
    "strip()\tReturns a trimmed version of the string\n",
    "\n",
    "title()\tConverts the first character of each word to upper case\n",
    "\n",
    "translate()\tReturns a translated string\n",
    "\n",
    "upper()\tConverts a string into upper case"
   ]
  },
  {
   "cell_type": "markdown",
   "id": "d3353fef",
   "metadata": {},
   "source": [
    "Q2. How do the string forms in Python 3.X vary in terms of operations?"
   ]
  },
  {
   "cell_type": "markdown",
   "id": "b7fbf590",
   "metadata": {},
   "source": [
    "Types of String Formatting in Python\n",
    "There are mainly four types of String Formatting techniques in Python:\n",
    "\n",
    "Formatting with the % operator\n",
    "Formatting with format() string method\n",
    "Formatting with string literals, f-strings\n",
    "Formatting with String Template class\n",
    "\n",
    "Formatting With the % Operator\n",
    "Strings in Python possess a unique built-in operator that is % operator. This % Operator, also known as Modulo or Interpolation Operator, helps you do simple positional formatting in strings.\n",
    "\n",
    "This is the oldest method used for string formatting, also known as C-Style String Formatting.\n",
    "\n",
    "Here ‘%s’ is used to embed strings, ‘%d’ for integers, ‘%f’ for floating-point values, and ‘%b’ for binary format.\n",
    "\n",
    "Formatting With format() string Method\n",
    "Python with version Python3 introduced a new way to do string formatting later back-ported to Python 2.7. This “new style” string formatting is done by calling the .format() method on a String object. You can put one or more replacement fields and placeholders defined by a pair of curly braces { } into a string and parallelly call the str.format() method. The values are passed as parameters into the format function corresponding to the placeholders.\n",
    "\n",
    "This “new style” formatting method has de-emphasized the %- operator formatting, but it has not been deplored. It is still supported in the latest versions of Python.\n",
    "\n",
    "You can use the format() method to do variable substitutions by name and use them in any order you want.\n",
    "\n",
    "Guide To String Formatting In Python\n",
    "Lesson 44 of 50By Abhisar Ahuja\n",
    "\n",
    "Last updated on Oct 15, 202233902\n",
    "The Best Guide to String Formatting in Python\n",
    "PreviousNext\n",
    "Table of Contents\n",
    "What Is String Formatting?Types of String Formatting in PythonWhich String Formatting Method Is the Best?Conclusion\n",
    "Python is a popular programming language with several concepts; one of them is String Formatting. In this tutorial, you’ll learn the different approaches to string formatting in Python, as well as their strengths and shortcomings.\n",
    "\n",
    "Launch Your Career into the Clouds!\n",
    "Post-Graduate Program in Cloud ComputingEXPLORE PROGRAMLaunch Your Career into the Clouds!\n",
    "What Is String Formatting?\n",
    "String formatting is the process of inserting a custom string or variable in predefined text. This sounds similar to string concatenation but without using “+” or concatenation methods.\n",
    "\n",
    "String_Formatting_In_Python_1.\n",
    "\n",
    "Output:\n",
    "String_Formatting_In_Python_2\n",
    "\n",
    "Types of String Formatting in Python\n",
    "There are mainly four types of String Formatting techniques in Python:\n",
    "\n",
    "Formatting with the % operator\n",
    "Formatting with format() string method\n",
    "Formatting with string literals, f-strings\n",
    "Formatting with String Template class\n",
    "Formatting With the % Operator\n",
    "Strings in Python possess a unique built-in operator that is % operator. This % Operator, also known as Modulo or Interpolation Operator, helps you do simple positional formatting in strings.\n",
    "\n",
    "This is the oldest method used for string formatting, also known as C-Style String Formatting.\n",
    "\n",
    "Now, look at a simple example to understand this:\n",
    "\n",
    "String_Formatting_In_Python_3\n",
    "\n",
    "Output:\n",
    "String_Formatting_In_Python_4.\n",
    "\n",
    "Here ‘%s’ is used to embed strings, ‘%d’ for integers, ‘%f’ for floating-point values, and ‘%b’ for binary format. For other different formats, you can visit the official documentation.\n",
    "\n",
    "Launch Your Career into the Clouds!\n",
    "Post-Graduate Program in Cloud ComputingEXPLORE PROGRAMLaunch Your Career into the Clouds!\n",
    "Now, have a look at another example:\n",
    "\n",
    "String_Formatting_In_Python_5\n",
    "\n",
    "Output:\n",
    "String_Formatting_In_Python_6\n",
    "\n",
    "Formatting With format() string Method\n",
    "Python with version Python3 introduced a new way to do string formatting later back-ported to Python 2.7. This “new style” string formatting is done by calling the .format() method on a String object. You can put one or more replacement fields and placeholders defined by a pair of curly braces { } into a string and parallelly call the str.format() method. The values are passed as parameters into the format function corresponding to the placeholders.\n",
    "\n",
    "String_Formatting_In_Python_7\n",
    "\n",
    "Output:\n",
    "String_Formatting_In_Python_8.\n",
    "\n",
    "This “new style” formatting method has de-emphasized the %- operator formatting, but it has not been deplored. It is still supported in the latest versions of Python.\n",
    "\n",
    "You can use the format() method to do variable substitutions by name and use them in any order you want. This feature turns very useful as it allows for rearranging the order of display without changing the arguments passed to format():\n",
    "\n",
    "String_Formatting_In_Python_9.\n",
    "\n",
    "Output:\n",
    "String_Formatting_In_Python_10\n",
    "String_Formatting_In_Python_11.\n",
    "\n",
    "Output:\n",
    "String_Formatting_In_Python_12.\n",
    "\n",
    "The introduction of Python 3.6 brought another way to format the strings.\n",
    "\n",
    "Become a Data Science Expert & Get Your Dream Job\n",
    "Caltech Post Graduate Program in Data ScienceEXPLORE PROGRAMBecome a Data Science Expert & Get Your Dream Job\n",
    "Formatting With String Literals, f-strings\n",
    "With the advancements in Python with version 3.6, the world got introduced to a new string formatting method, f-strings or Literal String Interpolation. This formatting method lets you use embedded Python expressions inside string constants.\n",
    "\n",
    "Now, you will look at some limitations of f-strings.\n",
    "\n",
    "An f-string expression cannot be empty.\n",
    "Triple-quoted f-string can’t contain comments.\n",
    "You cannot include a backslash in f-string\n",
    "\n",
    "Formatting With String Template Class\n",
    "Template strings are not a basic language feature, but they’re made available by the string module in the standard library. You need to import the template class from Python's built-in string module to implement string formatting. Template strings don’t allow format specifiers instead they use placeholder names formed by $ with valid Python identifiers"
   ]
  },
  {
   "cell_type": "markdown",
   "id": "47ddb25b",
   "metadata": {},
   "source": [
    "Q3. In 3.X, how do you put non-ASCII Unicode characters in a string?"
   ]
  },
  {
   "cell_type": "markdown",
   "id": "8c99e873",
   "metadata": {},
   "source": [
    "There are different techniques in Python language which is used to print these Non-ASCII characters easily.\n",
    "\n",
    "\n",
    "Use Unicode String\n",
    "The Unicode string in Python language is used to print non-ASCII characters in the code. The syntax is very simple. We need to add one escape sequence for the character we want to print. Let’s see the implementation.\n",
    "\n",
    "The encoding declaration is a technique that is used at the beginning of the code file. The single line of code is a comment used to tell the interpreter about the code execution. This comment will help to encode the non-ASCII characters and symbols in the output. One more condition needs to be satisfied before the execution of this comment,i.e., the console should support UTF-8 encoding by default.\n",
    "\n",
    "In Python3, the encoding system is the default. There is no need to specify the encoding explicitly. If your console supports the encoding method, then we can directly print the non-ASCII characters using encode method.\n",
    "\n",
    "The .decode function is used to encode the string in the given format. This format helps to implement the symbols and characters in our own way. Let’s see the result to validate the implementation.\n",
    "\n",
    "You can also print the string of Non-ASCII characters in a normal string using different methods and functions of Python libraries /modules. The different modules are used for translating/ converting the non-ASCII string into ASCII string. For this, the ‘unidecode’ library from Python language is imported. The main purpose of the unidecode library in Python is to translate the non-ASCII character into ASCII characters.\n",
    "\n",
    "In this implementation, the unidecode() function is used. The arguments are also provided in the form of an escape character sequence, and the ASCII characters are printed. Let’s see the implementation.\n",
    "\n",
    "The Non-ASCII characters sequence is converted into the ASCII characters and printed correctly!"
   ]
  },
  {
   "cell_type": "markdown",
   "id": "6e221b5e",
   "metadata": {},
   "source": [
    "Q4. In Python 3.X, what are the key differences between text-mode and binary-mode files?"
   ]
  },
  {
   "cell_type": "markdown",
   "id": "b5bb7ae0",
   "metadata": {},
   "source": [
    "A text file is the one in which data is stored in the form of ASCII characters and is normally used for storing a stream of characters. Text files are organized around lines, each of which ends with a newline character (‘\\n’). The source code files are themselves text files.\n",
    "\n",
    "A binary file is the one in which data is stored in the file in the same way as it is stored in the main memory for processing. It is stored in binary format instead of ASCII characters. It is normally used for storing numeric information (int, float, double). Normally a binary file can be created only from within a program and its contents can be read only by a program.\n",
    "\n",
    "1. The input/output stream is handled by the iostream library in this case.\n",
    "2. Additionally, we have a library called fstream that manages files.\n",
    "making an object of the fstream class with the name “FileName” on it.\n",
    "3. Applying the open() function to the previously constructed object will allow us to create a new file with the mode set to “out,” allowing us to write data into the file.\n",
    "4. To verify the creation of the file, we utilise the ‘if’ expression.\n",
    "5. if the file is missing, prints the message to the terminal.\n",
    "6. if the file is created or existing, prints the message to the console.\n",
    "7. To close the file, we utilise the object’s close() function.\n"
   ]
  },
  {
   "cell_type": "markdown",
   "id": "cd77c0a6",
   "metadata": {},
   "source": [
    "Q5. How can you interpret a Unicode text file containing text encoded in a different encoding than your platform's default?"
   ]
  },
  {
   "cell_type": "markdown",
   "id": "39302435",
   "metadata": {},
   "source": [
    "Encoding is the process of representing data in a computer-readable form. There are many ways to encode data—ASCII, Latin-1, and more—and each encoding has its own strengths and weaknesses, but perhaps the most common is UTF-8. This is a type of encoding that allows characters from all over the world to be represented in a single character set. As such, UTF-8 is an essential tool for anyone working with internationalized data. In general, UTF-8 is a good choice for most purposes. It is relatively efficient and can be used with a variety of software. UTF-8 takes the Unicode code point and converts it to hexadecimal bytes that a computer can understand. In other words, Unicode is the mapping, and UTF-8 enables a computer to understand that mapping.\n",
    "\n",
    "that each byte has a \\x preceding it, which indicates that it is a hexadecimal number.\n",
    "\n",
    "Next, you will use the decode() function to convert the byte string back into a string. The decode() function accepts the encoding type as an argument. It is also worth mentioning that the decode() function can only decode the byte string, which is specified by using the letter b at the beginning of the string. Removing the b would result in an AttributeError.\n",
    "\n",
    "Normalization helps determine whether two characters written in different fonts are the same, which is useful when two characters with different code points produce the same result. For example, the Unicode character R and ℜ are the same to the human eye, as they are both the letter R, but a computer considers them to be different characters.\n",
    "\n",
    "n this step you will normalize Unicode strings with the normalize() function from Python’s unicodedata library in the unicodedata module, which provides character lookup and normalization capabilities. The normalize() function can take a normalization form as its first argument and the string being normalized as the second argument. Unicode has four types of normalization forms you can use for this: NFD, NFC, NFKD, and NFKC.\n",
    "\n",
    "The NFD normalization form decomposes a character into multiple combining characters. It makes your text accent-insensitive, which could be useful in searching and sorting. You can do this by encoding the string into bytes."
   ]
  },
  {
   "cell_type": "markdown",
   "id": "61b91017",
   "metadata": {},
   "source": [
    "Q6. What is the best way to make a Unicode text file in a particular encoding format?"
   ]
  },
  {
   "cell_type": "markdown",
   "id": "9190b33c",
   "metadata": {},
   "source": [
    "To write a file in Unicode (UTF-8) encoding in Python, you can use the built-in open() function with the 'w' mode and specifying the encoding as \"utf-8\". Here's an example: with open(\"file. txt\", \"w\", encoding=\"utf-8\") as f: f."
   ]
  },
  {
   "cell_type": "markdown",
   "id": "4b4bad16",
   "metadata": {},
   "source": [
    "Q7. What qualifies ASCII text as a form of Unicode text?"
   ]
  },
  {
   "cell_type": "markdown",
   "id": "1e1148c7",
   "metadata": {},
   "source": [
    "ASCII is a proper subset of Unicode, which means that Unicode includes all the characters that can be encoded in ASCII, plus many more. So, while ASCII is useful for representing characters in the English language, Unicode is capable of representing a much wider range of characters in other languages and scripts."
   ]
  },
  {
   "cell_type": "markdown",
   "id": "a8a2fbf6",
   "metadata": {},
   "source": [
    "Q8. How much of an effect does the change in string types in Python 3.X have on your code?"
   ]
  },
  {
   "cell_type": "markdown",
   "id": "304336aa",
   "metadata": {},
   "source": [
    "In a nutshell, 2. X's str and unicode types have morphed into 3. X's bytes and str types, and a new mutable bytearray type has been added. Especially if you process data that is either Unicode or binary in nature, this can have substantial impacts on your code"
   ]
  },
  {
   "cell_type": "code",
   "execution_count": null,
   "id": "8e8d3b3d",
   "metadata": {},
   "outputs": [],
   "source": []
  }
 ],
 "metadata": {
  "kernelspec": {
   "display_name": "Python 3 (ipykernel)",
   "language": "python",
   "name": "python3"
  },
  "language_info": {
   "codemirror_mode": {
    "name": "ipython",
    "version": 3
   },
   "file_extension": ".py",
   "mimetype": "text/x-python",
   "name": "python",
   "nbconvert_exporter": "python",
   "pygments_lexer": "ipython3",
   "version": "3.10.9"
  }
 },
 "nbformat": 4,
 "nbformat_minor": 5
}
