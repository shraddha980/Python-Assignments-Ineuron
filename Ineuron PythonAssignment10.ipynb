{
 "cells": [
  {
   "cell_type": "markdown",
   "id": "777a0465",
   "metadata": {},
   "source": [
    "Q1. What is the difference between __getattr__ and __getattribute__?"
   ]
  },
  {
   "cell_type": "markdown",
   "id": "ba0d639a",
   "metadata": {},
   "source": [
    "__getattr__\n",
    "Called when an attribute lookup has not found the attribute in the usual places (i.e. it is not an instance attribute nor is it found in the class tree for self). name is the attribute name. This method should return the (computed) attribute value or raise an AttributeError exception.\n",
    "\n",
    "Note that if the attribute is found through the normal mechanism, __getattr__() is not called. (This is an intentional asymmetry between __getattr__() and __setattr__().) This is done both for efficiency reasons and because otherwise __getattr__() would have no way to access other attributes of the instance. Note that at least for instance variables, you can fake total control by not inserting any values in the instance attribute dictionary (but instead inserting them in another object). See the __getattribute__() method below for a way to actually get total control in new-style classes.\n",
    "\n",
    "__getattribute__\n",
    "Called unconditionally to implement attribute accesses for instances of the class. If the class also defines __getattr__(), the latter will not be called unless __getattribute__() either calls it explicitly or raises an AttributeError. This method should return the (computed) attribute value or raise an AttributeError exception. In order to avoid infinite recursion in this method, its implementation should always call the base class method with the same name to access any attributes it needs, for example, object.__getattribute__(self, name)."
   ]
  },
  {
   "cell_type": "markdown",
   "id": "eddf3566",
   "metadata": {},
   "source": [
    "Q2. What is the difference between properties and descriptors?"
   ]
  },
  {
   "cell_type": "markdown",
   "id": "c0fa8174",
   "metadata": {},
   "source": [
    "Properties. We can bind getter, setter (and deleter) functions with an attribute name, using the built-in property function. When we do this, each reference to an attribute looks like simple, direct access, but invokes the appropriate function of the object. For example, anObject.price= someValue; anObject.value.\n",
    "\n",
    "Descriptors. We can bind getter, setter (and deleter) functions into a separate class. We then assign an object of this class to the attribute name. When we do this, each reference to an attribute looks like simple, direct access, but invokes an appropriate function of the Descriptor object. For example, anObject.price= someValue; anObject.value.\n",
    "\n",
    "Property Design Pattern. The Property design pattern has a number of method functions which are bound together with a single property name. The method functions can include any combination of a getter, a setter and a deleter.\n",
    "\n",
    "To create a property, we define the instance variable and the method functions for some combination of getting, setting and deleting an attribute value. This is identical with the Getter and Setter design pattern. To make a property, we provide these method functions to the property function to bind the various methods to an attribute name.\n",
    "\n",
    "Here's the definition of the property function.\n",
    "\n",
    "property( fget , fset , fdel , doc ) → property attribute\n",
    "Binds the given method functions into a property definition. This builds a descriptor object. Usually the result value is assigned to an attribute of a class.\n",
    "\n",
    "Descriptor Design Pattern. The Descriptor design pattern has two parts: the Owner and the attribute Descriptor . The Owner is usually a relatively complex object that uses one or more Descriptors for it's attributes. Each Descriptor class defines get, set and delete methods for a specific attribute of the Owner.\n",
    "\n",
    "Note that Desciptors can easily be written as reusable, generic types of attributes. The Owner can have multiple instances of each Descriptor. Each use of a Desciptor class is a unique instance of a Descriptor object, bound to an attribute name when the Owner class is defined.\n",
    "\n",
    "To be recognized as a Descriptor, a class must implement some combination of the following three methods.\n",
    "\n",
    "__get__ ( self , instance , owner )\n",
    "The instance argument is the self variable of the owning class; the owner argument is the owning class object. This method of the descriptor must return this attribute's value. If this descriptor implements a class level variable, the instance parameter can be ignored.\n",
    "\n",
    "__set__ ( self , instance , value )\n",
    "The instance argument is the self variable of the owning class. This method of the descriptor must set this attribute's value.\n",
    "\n",
    "__delete__ ( self , instance )\n",
    "The instance argument is the self variable of the owning class. This method of the descriptor must delete this attribute's value."
   ]
  },
  {
   "cell_type": "markdown",
   "id": "491b315d",
   "metadata": {},
   "source": [
    "Q3. What are the key differences in functionality between __getattr__ and __getattribute__, as well as properties and descriptors?"
   ]
  },
  {
   "cell_type": "markdown",
   "id": "25eaaf8a",
   "metadata": {},
   "source": [
    "getattr Called when an attribute lookup has not found the attribute in the usual places (i.e. it is not an instance attribute nor is it found in the class tree for self). name is the attribute name. This method should return the (computed) attribute value or raise an AttributeError exception.\n",
    "\n",
    "Note that if the attribute is found through the normal mechanism, getattr() is not called. (This is an intentional asymmetry between getattr() and setattr().) This is done both for efficiency reasons and because otherwise getattr() would have no way to access other attributes of the instance. Note that at least for instance variables, you can fake total control by not inserting any values in the instance attribute dictionary (but instead inserting them in another object). See the getattribute() method below for a way to actually get total control in new-style classes.\n",
    "\n",
    "getattribute Called unconditionally to implement attribute accesses for instances of the class. If the class also defines getattr(), the latter will not be called unless getattribute() either calls it explicitly or raises an AttributeError. This method should return the (computed) attribute value or raise an AttributeError exception. In order to avoid infinite recursion in this method, its implementation should always call the base class method with the same name to access any attributes it needs, for example, object.getattribute(self, name).\n",
    "\n",
    "Properties. We can bind getter, setter (and deleter) functions with an attribute name, using the built-in property function. When we do this, each reference to an attribute looks like simple, direct access, but invokes the appropriate function of the object. For example, anObject.price= someValue; anObject.value.\n",
    "\n",
    "Descriptors. We can bind getter, setter (and deleter) functions into a separate class. We then assign an object of this class to the attribute name. When we do this, each reference to an attribute looks like simple, direct access, but invokes an appropriate function of the Descriptor object. For example, anObject.price= someValue; anObject.value.\n",
    "\n",
    "Property Design Pattern. The Property design pattern has a number of method functions which are bound together with a single property name. The method functions can include any combination of a getter, a setter and a deleter.\n",
    "\n",
    "To create a property, we define the instance variable and the method functions for some combination of getting, setting and deleting an attribute value. This is identical with the Getter and Setter design pattern. To make a property, we provide these method functions to the property function to bind the various methods to an attribute name.\n",
    "\n",
    "Here's the definition of the property function.\n",
    "\n",
    "property( fget , fset , fdel , doc ) → property attribute Binds the given method functions into a property definition. This builds a descriptor object. Usually the result value is assigned to an attribute of a class.\n",
    "\n",
    "Descriptor Design Pattern. The Descriptor design pattern has two parts: the Owner and the attribute Descriptor . The Owner is usually a relatively complex object that uses one or more Descriptors for it's attributes. Each Descriptor class defines get, set and delete methods for a specific attribute of the Owner.\n",
    "\n",
    "Note that Desciptors can easily be written as reusable, generic types of attributes. The Owner can have multiple instances of each Descriptor. Each use of a Desciptor class is a unique instance of a Descriptor object, bound to an attribute name when the Owner class is defined.\n",
    "\n",
    "To be recognized as a Descriptor, a class must implement some combination of the following three methods.\n",
    "\n",
    "get ( self , instance , owner ) The instance argument is the self variable of the owning class; the owner argument is the owning class object. This method of the descriptor must return this attribute's value. If this descriptor implements a class level variable, the instance parameter can be ignored.\n",
    "\n",
    "set ( self , instance , value ) The instance argument is the self variable of the owning class. This method of the descriptor must set this attribute's value.\n",
    "\n",
    "delete ( self , instance ) The instance argument is the self variable of the owning class. This method of the descriptor must delete this attribute's value."
   ]
  },
  {
   "cell_type": "code",
   "execution_count": null,
   "id": "b8d3d825",
   "metadata": {},
   "outputs": [],
   "source": []
  }
 ],
 "metadata": {
  "kernelspec": {
   "display_name": "Python 3 (ipykernel)",
   "language": "python",
   "name": "python3"
  },
  "language_info": {
   "codemirror_mode": {
    "name": "ipython",
    "version": 3
   },
   "file_extension": ".py",
   "mimetype": "text/x-python",
   "name": "python",
   "nbconvert_exporter": "python",
   "pygments_lexer": "ipython3",
   "version": "3.10.9"
  }
 },
 "nbformat": 4,
 "nbformat_minor": 5
}
