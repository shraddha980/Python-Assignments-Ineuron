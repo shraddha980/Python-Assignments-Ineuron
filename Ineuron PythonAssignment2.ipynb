{
 "cells": [
  {
   "cell_type": "markdown",
   "id": "b5dc4be9",
   "metadata": {},
   "source": [
    "Q1. What is the relationship between classes and modules?"
   ]
  },
  {
   "cell_type": "markdown",
   "id": "958077b9",
   "metadata": {},
   "source": [
    "Classes in python act as a blueprint based on which objects are created. Objects are the very basis for object-oriented programming. The objects are the real-world entities, and class acts as a template that defines those objects.\n",
    "\n",
    "These real-world entities have behavior associated with them, and classes define that behavior. A class contains variables and functions which act on the objects.For any object, when we want to define its functionalities, we include that inside the class. The functionalities are characteristics of that object. Let us understand the purpose behind building a class using an example.\n",
    "\n",
    "We shall define a class named ‘Person’ which will define characteristics of each person – such as name, age, and gender.\n",
    "\n",
    "Modules in Python are files with a .py extension using which we can reuse elements inside that file. When we create a python program, the program may contain inside it functions, variables, and even classes.\n",
    "\n",
    "If we want to reuse the same piece of function code or the same class, rewriting it would make our code redundant and repetitive. Instead, we can import that entire file as a module into another program.\n",
    "\n",
    "Doing so makes our code reusable and improves its readability. An entire project can then be broken down into smaller sections, and thus the code becomes more manageable."
   ]
  },
  {
   "cell_type": "markdown",
   "id": "16a41f18",
   "metadata": {},
   "source": [
    "Q2. How do you make instances and classes?"
   ]
  },
  {
   "cell_type": "markdown",
   "id": "d4b0d05d",
   "metadata": {},
   "source": [
    "To create instances of a class, you call the class using class name and pass in whatever arguments its __init__ method accepts.\n",
    "When users define a class, the variables they use within a class are the class variables, and the variables used within a class instance are the instance variables. Users do not use class variables as frequently as they use instance variables.The Python instances of the class have instance variables. It indicates that every object or instance has its unique instance variables, i.e.,  the instance variables are different for each object or instance of a class."
   ]
  },
  {
   "cell_type": "markdown",
   "id": "e8c7927d",
   "metadata": {},
   "source": [
    "Q3. Where and how should be class attributes created?"
   ]
  },
  {
   "cell_type": "markdown",
   "id": "871ec41c",
   "metadata": {},
   "source": [
    "Any variable that is bound in a class is a class attribute. Any function defined within a class is a method. Methods receive an instance of the class, conventionally called self, as the first argument. For example, to define some class attributes and methods, you might enter the following code:\n",
    "class MyClass\n",
    "    attr1 = 10        #class attributes\n",
    "    attr2 = \"hello\"\n",
    "\n",
    "    def method1(self):\n",
    "        print MyClass.attr1   #reference the class attribute\n",
    "\n",
    "    def method2(self):\n",
    "        print MyClass.attr2   #reference the class attribute\n",
    "\n",
    "    def method3(self, text):\n",
    "        self.text = text        #instance attribute\n",
    "        print text, self.text   #print my argument and my attribute\n",
    "\n",
    "    method4 = method3   #make an alias for method3\n",
    "    \n",
    " Inside a class, you should qualify all references to class attributes with the class name; for example, MyClass.attr1. All references to instance attributes should be qualified with the self variable; for example, self.text. Outside the class, you should qualify all references to class attributes with the class name (for example MyClass.attr1) or with an instance of the class (for example x.attr1, where x is an instance of the class). Outside the class, all references to instance variables should be qualified with an instance of the class; for example, x.text."
   ]
  },
  {
   "cell_type": "markdown",
   "id": "b6af683d",
   "metadata": {},
   "source": [
    "Q4. Where and how are instance attributes created?\n",
    "\n",
    "Instance attributes are attributes or properties attached to an instance of a class. Instance attributes are defined in the constructor.\n",
    "\n",
    "> Defined inside a constructor using the self parameter.\n",
    "> Specific to object.\n",
    "> Changing value of instance attribute will not be reflected to other objects."
   ]
  },
  {
   "cell_type": "markdown",
   "id": "a64c0d75",
   "metadata": {},
   "source": [
    "Q5. What does the term \"self\" in a Python class mean?\n",
    "\n",
    "The self is used to represent the instance of the class. With this keyword, you can access the attributes and methods of the class in python. It binds the attributes with the given arguments. The reason why we use self is that Python does not use the ‘@’ syntax to refer to instance attributes. In Python, we have methods that make the instance to be passed automatically, but not received automatically.self is used in different places and often thought to be a keyword. But unlike in C++, self is not a keyword in Python.self is a parameter in function and the user can use a different parameter name in place of it. Although it is advisable to use self because it increases the readability of code."
   ]
  },
  {
   "cell_type": "markdown",
   "id": "6d76ef23",
   "metadata": {},
   "source": [
    "Q6. How does a Python class handle operator overloading?\n",
    "\n",
    "Operator Overloading means giving extended meaning beyond their predefined operational meaning. For example operator + is used to add two integers as well as join two strings and merge two lists. It is achievable because ‘+’ operator is overloaded by int class and str class. You might have noticed that the same built-in operator or function shows different behavior for objects of different classes, this is called Operator Overloading.onsider that we have two objects which are a physical representation of a class (user-defined data type) and we have to add two objects with binary ‘+’ operator it throws an error, because compiler don’t know how to add two objects. So we define a method for an operator and that process is called operator overloading. We can overload all existing operators but we can’t create a new operator. To perform operator overloading, Python provides some special function or magic function that is automatically invoked when it is associated with that particular operator. For example, when we use + operator, the magic method __add__ is automatically invoked in which the operation for + operator is defined.\n",
    "Overloading binary + operator in Python :\n",
    "When we use an operator on user defined data types then automatically a special function or magic function associated with that operator is invoked. Changing the behavior of operator is as simple as changing the behavior of method or function. You define methods in your class and operators work according to that behavior defined in methods. When we use + operator, the magic method __add__ is automatically invoked in which the operation for + operator is defined. There by changing this magic method’s code, we can give extra meaning to the + operator."
   ]
  },
  {
   "cell_type": "markdown",
   "id": "4910b45f",
   "metadata": {},
   "source": [
    "Q7. When do you consider allowing operator overloading of your classes?"
   ]
  },
  {
   "cell_type": "markdown",
   "id": "e77a3a52",
   "metadata": {},
   "source": [
    "When one or both operands are of a user-defined class or structure type, operator overloading makes it easier to specify user-defined implementation for such operations. This makes user-defined types more similar to the basic primitive data types in terms of behaviour."
   ]
  },
  {
   "cell_type": "markdown",
   "id": "373a13d4",
   "metadata": {},
   "source": [
    "Q8. What is the most popular form of operator overloading?\n",
    "\n",
    "Overloading binary + operator in Python: \n",
    "\n",
    "When we use an operator on user-defined data types then automatically a special function or magic function associated with that operator is invoked. Changing the behavior of operator is as simple as changing the behavior of a method or function. You define methods in your class and operators work according to that behavior defined in methods. When we use + operator, the magic method __add__ is automatically invoked in which the operation for + operator is defined. Thereby changing this magic method’s code, we can give extra meaning to the + operator. Whenever you change the behavior of the existing operator through operator overloading, you have to redefine the special function that is invoked automatically when the operator is used with the objects. "
   ]
  },
  {
   "cell_type": "markdown",
   "id": "49fc63ad",
   "metadata": {},
   "source": [
    "Q9. What are the two most important concepts to grasp in order to comprehend Python OOP code?\n",
    "\n",
    "Python Class \n",
    "A class is a collection of objects. A class contains the blueprints or the prototype from which the objects are being created. It is a logical entity that contains some attributes and methods. \n",
    "\n",
    "To understand the need for creating a class let’s consider an example, let’s say you wanted to track the number of dogs that may have different attributes like breed, and age. If a list is used, the first element could be the dog’s breed while the second element could represent its age. Let’s suppose there are 100 different dogs, then how would you know which element is supposed to be which? What if you wanted to add other properties to these dogs? This lacks organization and it’s the exact need for classes. \n",
    "\n",
    "Python Objects\n",
    "The object is an entity that has a state and behavior associated with it. It may be any real-world object like a mouse, keyboard, chair, table, pen, etc. Integers, strings, floating-point numbers, even arrays, and dictionaries, are all objects. More specifically, any single integer or any single string is an object. The number 12 is an object, the string “Hello, world” is an object, a list is an object that can hold other objects, and so on. You’ve been using objects all along and may not even realize it.\n",
    "\n",
    "An object consists of:\n",
    "\n",
    "State: It is represented by the attributes of an object. It also reflects the properties of an object.\n",
    "Behavior: It is represented by the methods of an object. It also reflects the response of an object to other objects.\n",
    "Identity: It gives a unique name to an object and enables one object to interact with other objects.\n",
    "To understand the state, behavior, and identity let us take the example of the class dog (explained above). \n",
    "\n",
    "The identity can be considered as the name of the dog.\n",
    "State or Attributes can be considered as the breed, age, or color of the dog.\n",
    "The behavior can be considered as to whether the dog is eating or sleeping.\n",
    "Creating an Object\n",
    "This will create an object named obj of the class Dog defined above. Before diving deep into objects and classes let us understand some basic keywords that will we used while working with objects and classes."
   ]
  },
  {
   "cell_type": "markdown",
   "id": "ae4bfbed",
   "metadata": {},
   "source": []
  },
  {
   "cell_type": "markdown",
   "id": "1ad61efa",
   "metadata": {},
   "source": []
  },
  {
   "cell_type": "markdown",
   "id": "3b6e4b25",
   "metadata": {},
   "source": []
  },
  {
   "cell_type": "code",
   "execution_count": null,
   "id": "50dd2ebe",
   "metadata": {},
   "outputs": [],
   "source": []
  },
  {
   "cell_type": "code",
   "execution_count": null,
   "id": "81e86f0a",
   "metadata": {},
   "outputs": [],
   "source": []
  },
  {
   "cell_type": "code",
   "execution_count": null,
   "id": "a33c2b48",
   "metadata": {},
   "outputs": [],
   "source": []
  },
  {
   "cell_type": "code",
   "execution_count": null,
   "id": "31083c88",
   "metadata": {},
   "outputs": [],
   "source": []
  },
  {
   "cell_type": "code",
   "execution_count": null,
   "id": "352c8bd7",
   "metadata": {},
   "outputs": [],
   "source": []
  },
  {
   "cell_type": "code",
   "execution_count": null,
   "id": "d3c88323",
   "metadata": {},
   "outputs": [],
   "source": []
  },
  {
   "cell_type": "code",
   "execution_count": null,
   "id": "0f78c5e5",
   "metadata": {},
   "outputs": [],
   "source": []
  },
  {
   "cell_type": "code",
   "execution_count": null,
   "id": "dc2d1db1",
   "metadata": {},
   "outputs": [],
   "source": []
  },
  {
   "cell_type": "code",
   "execution_count": null,
   "id": "f544fc07",
   "metadata": {},
   "outputs": [],
   "source": []
  },
  {
   "cell_type": "code",
   "execution_count": null,
   "id": "e712a533",
   "metadata": {},
   "outputs": [],
   "source": []
  },
  {
   "cell_type": "code",
   "execution_count": null,
   "id": "c82c54dc",
   "metadata": {},
   "outputs": [],
   "source": []
  }
 ],
 "metadata": {
  "kernelspec": {
   "display_name": "Python 3 (ipykernel)",
   "language": "python",
   "name": "python3"
  },
  "language_info": {
   "codemirror_mode": {
    "name": "ipython",
    "version": 3
   },
   "file_extension": ".py",
   "mimetype": "text/x-python",
   "name": "python",
   "nbconvert_exporter": "python",
   "pygments_lexer": "ipython3",
   "version": "3.10.9"
  }
 },
 "nbformat": 4,
 "nbformat_minor": 5
}
