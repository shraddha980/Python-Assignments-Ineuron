{
 "cells": [
  {
   "cell_type": "markdown",
   "id": "3ec80511",
   "metadata": {},
   "source": [
    "Q1. Is an assignment operator like += only for show? Is it possible that it would lead to faster results at the runtime?"
   ]
  },
  {
   "cell_type": "markdown",
   "id": "827b4173",
   "metadata": {},
   "source": [
    "it is possible that Python takes more time in figuring the type of data on which += to operate on i.e. its addition if they are integers while concat if they are strings. While in ' '. join() operation, it expects string elements only - which makes Python to not worry about type of data its dealing with"
   ]
  },
  {
   "cell_type": "markdown",
   "id": "d10d612d",
   "metadata": {},
   "source": [
    "Q2. What is the smallest number of statements you'd have to write in most programming languages to replace the Python expression a, b = a + b, a?"
   ]
  },
  {
   "cell_type": "code",
   "execution_count": 1,
   "id": "8204e010",
   "metadata": {},
   "outputs": [
    {
     "name": "stdout",
     "output_type": "stream",
     "text": [
      "3\n",
      "1\n"
     ]
    }
   ],
   "source": [
    "a = 1\n",
    "b = 2\n",
    "\n",
    "a,b = a+b,a\n",
    "\n",
    "print(a)\n",
    "print(b)"
   ]
  },
  {
   "cell_type": "markdown",
   "id": "e34de88e",
   "metadata": {},
   "source": [
    "Q3. In Python, what is the most effective way to set a list of 100 integers to 0?"
   ]
  },
  {
   "cell_type": "code",
   "execution_count": 17,
   "id": "a75b67ee",
   "metadata": {},
   "outputs": [],
   "source": [
    "import random\n",
    "list = random.sample(range(1, 100), 90)"
   ]
  },
  {
   "cell_type": "code",
   "execution_count": 25,
   "id": "0711512b",
   "metadata": {},
   "outputs": [],
   "source": [
    "new_list = list*0"
   ]
  },
  {
   "cell_type": "code",
   "execution_count": 26,
   "id": "b17ffabd",
   "metadata": {},
   "outputs": [
    {
     "data": {
      "text/plain": [
       "[]"
      ]
     },
     "execution_count": 26,
     "metadata": {},
     "output_type": "execute_result"
    }
   ],
   "source": [
    "new_list"
   ]
  },
  {
   "cell_type": "markdown",
   "id": "08f80efb",
   "metadata": {},
   "source": [
    "Q4. What is the most effective way to initialise a list of 99 integers that repeats the sequence 1, 2, 3? S If necessary, show step-by-step instructions on how to accomplish this."
   ]
  },
  {
   "cell_type": "code",
   "execution_count": 31,
   "id": "df4e3381",
   "metadata": {},
   "outputs": [],
   "source": [
    "x = [1,2,3]\n",
    "n = 99"
   ]
  },
  {
   "cell_type": "code",
   "execution_count": 32,
   "id": "9ed4d6ff",
   "metadata": {},
   "outputs": [],
   "source": [
    "new = [item for item in x for i in range(99)]"
   ]
  },
  {
   "cell_type": "markdown",
   "id": "4b0c8e15",
   "metadata": {},
   "source": [
    "Q5. If you're using IDLE to run a Python application, explain how to print a multidimensional list as efficiently?\n"
   ]
  },
  {
   "cell_type": "markdown",
   "id": "53b4f959",
   "metadata": {},
   "source": [
    "There can be more than one additional dimension to lists in Python. Keeping in mind that a list can hold other lists, that basic principle can be applied over and over. Multi-dimensional lists are the lists within lists. Usually, a dictionary will be the better choice rather than a multi-dimensional list in Python."
   ]
  },
  {
   "cell_type": "code",
   "execution_count": 28,
   "id": "6cd72dbb",
   "metadata": {},
   "outputs": [
    {
     "name": "stdout",
     "output_type": "stream",
     "text": [
      "[[2, 4, 6, 8, 10], [3, 6, 9, 12, 15], [4, 8, 12, 16, 20]]\n"
     ]
    }
   ],
   "source": [
    "#Python program to demonstrate printing of complete multidimensional list \n",
    "a = [[2, 4, 6, 8, 10], [3, 6, 9, 12, 15], [4, 8, 12, 16, 20]] \n",
    "print(a)"
   ]
  },
  {
   "cell_type": "code",
   "execution_count": 29,
   "id": "f1565018",
   "metadata": {},
   "outputs": [
    {
     "name": "stdout",
     "output_type": "stream",
     "text": [
      "[2, 4, 6, 8, 10]\n",
      "[3, 6, 9, 12, 15]\n",
      "[4, 8, 12, 16, 20]\n"
     ]
    }
   ],
   "source": [
    "#Accessing with the help of loop.\n",
    "a = [[2, 4, 6, 8, 10], [3, 6, 9, 12, 15], [4, 8, 12, 16, 20]] \n",
    "for record in a: \n",
    "    print(record) "
   ]
  },
  {
   "cell_type": "code",
   "execution_count": 30,
   "id": "53ac003e",
   "metadata": {},
   "outputs": [
    {
     "name": "stdout",
     "output_type": "stream",
     "text": [
      "2 4 6 8 \n",
      "1 3 5 7 \n",
      "8 6 4 2 \n",
      "7 5 3 1 \n"
     ]
    }
   ],
   "source": [
    "#Accessing using square brackets.\n",
    "a = [ [2, 4, 6, 8 ],  \n",
    "    [ 1, 3, 5, 7 ],  \n",
    "    [ 8, 6, 4, 2 ],  \n",
    "    [ 7, 5, 3, 1 ] ]  \n",
    "          \n",
    "for i in range(len(a)) :  \n",
    "    for j in range(len(a[i])) :  \n",
    "        print(a[i][j], end=\" \") \n",
    "    print() "
   ]
  },
  {
   "cell_type": "markdown",
   "id": "6077f692",
   "metadata": {},
   "source": [
    "Q6. Is it possible to use list comprehension with a string? If so, how can you go about doing it?"
   ]
  },
  {
   "cell_type": "markdown",
   "id": "69c11ec2",
   "metadata": {},
   "source": [
    "When you have a list containing non-string elements like integers or floats, you need to convert them to strings before using the join() method. Failure to do so will raise a TypeError. You can use list comprehension or the map() function to convert the elements to strings before joining them."
   ]
  },
  {
   "cell_type": "code",
   "execution_count": 34,
   "id": "31f910fc",
   "metadata": {},
   "outputs": [
    {
     "name": "stdout",
     "output_type": "stream",
     "text": [
      "1, 2, 3, 4, 5\n"
     ]
    }
   ],
   "source": [
    "my_list = [1, 2, 3, 4, 5]\n",
    "string_list = [str(element) for element in my_list]\n",
    "delimiter = \", \"\n",
    "result_string = delimiter.join(string_list)\n",
    "print(result_string)"
   ]
  },
  {
   "cell_type": "markdown",
   "id": "e648ad4d",
   "metadata": {},
   "source": [
    "Q7. From the command line, how do you get support with a user-written Python programme? Is this possible from inside IDLE?"
   ]
  },
  {
   "cell_type": "markdown",
   "id": "22bc9b74",
   "metadata": {},
   "source": [
    "Use the def keyword to begin the function definition.\n",
    "Name your function.\n",
    "Supply one or more parameters. ...\n",
    "Enter lines of code that make your function do whatever it does. ...\n",
    "Use the return keyword at the end of the function to return the output."
   ]
  },
  {
   "cell_type": "markdown",
   "id": "a271fd41",
   "metadata": {},
   "source": [
    "Q8. Functions are said to be “first-class objects” in Python but not in most other languages, such as C++ or Java. What can you do in Python with a function (callable object) that you can't do in C or C++?\n",
    "\n"
   ]
  },
  {
   "cell_type": "markdown",
   "id": "a0da4b0f",
   "metadata": {},
   "source": [
    "n C/C++, the main() function is the program entry point. In python their is no such main() functions which are the program entry point and don't automatically run unless they are called. But the behaviour cam be implemented."
   ]
  },
  {
   "cell_type": "markdown",
   "id": "41b332f5",
   "metadata": {},
   "source": [
    "Q9. How do you distinguish between a wrapper, a wrapped feature, and a decorator?"
   ]
  },
  {
   "cell_type": "markdown",
   "id": "f3f57201",
   "metadata": {},
   "source": [
    "“Wrapper” is the alternative nickname for the Decorator pattern that clearly expresses the main idea of the pattern. A wrapper is an object that can be linked with some target object. The wrapper contains the same set of methods as the target and delegates to it all requests it receives.Function wrappers are useful tools for modifying the behavior of functions. In Python, they're called decorators. Decorators allow us to extend the behavior of a function or a class without changing the original implementation of the wrapped function"
   ]
  },
  {
   "cell_type": "markdown",
   "id": "da04bfa4",
   "metadata": {},
   "source": [
    "Q10. If a function is a generator function, what does it return?"
   ]
  },
  {
   "cell_type": "markdown",
   "id": "82e8d44d",
   "metadata": {},
   "source": [
    "It creates a generator object that can be iterated over to produce the values in the generator."
   ]
  },
  {
   "cell_type": "markdown",
   "id": "b8e3804b",
   "metadata": {},
   "source": [
    "Q11. What is the one improvement that must be made to a function in order for it to become a generator function in the Python language?"
   ]
  },
  {
   "cell_type": "markdown",
   "id": "57e35218",
   "metadata": {},
   "source": [
    "Here, the yield keyword is used to produce a value from the generator."
   ]
  },
  {
   "cell_type": "markdown",
   "id": "3a65836d",
   "metadata": {},
   "source": [
    "Q12. Identify at least one benefit of generators."
   ]
  },
  {
   "cell_type": "markdown",
   "id": "b941ff6a",
   "metadata": {},
   "source": [
    "In Python, a generator is a function that returns an iterator that produces a sequence of values when iterated over.\n",
    "Generators are useful when we want to produce a large sequence of values, but we don't want to store all of them in memory at once.\n",
    "In Python, similar to defining a normal function, we can define a generator function using the def keyword, but instead of the return statement we use the yield statement.\n",
    "\n",
    "def generator_name(arg):\n",
    "    # statements\n",
    "    yield something\n",
    "    \n",
    "Here, the yield keyword is used to produce a value from the generator.\n",
    "\n",
    "When the generator function is called, it does not execute the function body immediately. Instead, it returns a generator object that can be iterated over to produce the values.\n",
    "\n",
    "def my_generator(n):\n",
    "\n",
    "    # initialize counter\n",
    "    value = 0\n",
    "\n",
    "    # loop until counter is less than n\n",
    "    while value < n:\n",
    "\n",
    "        # produce the current value of the counter\n",
    "        yield value\n",
    "\n",
    "        # increment the counter\n",
    "        value += 1\n",
    "\n",
    "\n",
    "for value in my_generator(3):\n",
    "\n",
    "    # print each value produced by generator\n",
    "    print(value)\n",
    "    \n",
    "The yield keyword is used to produce a value from the generator and pause the generator function's execution until the next value is requested.\n",
    "\n",
    "The for loop iterates over the generator object produced by my_generator(), and the print statement prints each value produced by the generator."
   ]
  },
  {
   "cell_type": "code",
   "execution_count": null,
   "id": "f45ee81e",
   "metadata": {},
   "outputs": [],
   "source": []
  }
 ],
 "metadata": {
  "kernelspec": {
   "display_name": "Python 3 (ipykernel)",
   "language": "python",
   "name": "python3"
  },
  "language_info": {
   "codemirror_mode": {
    "name": "ipython",
    "version": 3
   },
   "file_extension": ".py",
   "mimetype": "text/x-python",
   "name": "python",
   "nbconvert_exporter": "python",
   "pygments_lexer": "ipython3",
   "version": "3.10.9"
  }
 },
 "nbformat": 4,
 "nbformat_minor": 5
}
