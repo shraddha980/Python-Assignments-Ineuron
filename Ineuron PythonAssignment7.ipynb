{
 "cells": [
  {
   "cell_type": "markdown",
   "id": "5730d1c0",
   "metadata": {},
   "source": [
    "Q1. What is the purpose of the try statement?"
   ]
  },
  {
   "cell_type": "markdown",
   "id": "5be35436",
   "metadata": {},
   "source": [
    "Often it is important to write programs that can handle certain types of errors or exceptions gracefully. More specifically, the error or exception must not cause a critical error that makes your program shut down. A Try-Except statement is a code block that allows your program to take alternative actions in case an error occurs.\n",
    "\n",
    "try:\n",
    "    code block 1\n",
    "except ExceptionName:\n",
    "    code block 2\n",
    "    \n",
    "Python will first attempt to execute the code in the try statement (code block 1). If no exception occurs, the except statement is skipped and the execution of the try statement is finished. If any exception occurs, the rest of the clause is skipped. Then if the exception type matches the exception named after the except keyword (ExceptionName), the code in the except statement will be executed (code block 2). If nothing in this block stops the program, it will continue to execute the rest of the code outside of the try-except code blocks. If the exception does not match the ExceptionName, it is passed on to outer try statements. If no other handler is found, then the execution stops with an error message.\n",
    "\n",
    "Another useful thing in Python is that we can raise some exception in certain cases using raise. For example, if we need x to be less than or equal to 5, we could use the following code to raise an exception if x is larger than 5. The program will display our exception and stops the execution."
   ]
  },
  {
   "cell_type": "markdown",
   "id": "0a3b767a",
   "metadata": {},
   "source": [
    "Q2. What are the two most popular try statement variations?"
   ]
  },
  {
   "cell_type": "markdown",
   "id": "766ba9f5",
   "metadata": {},
   "source": [
    "Error in Python can be of two types i.e. Syntax errors and Exceptions. Errors are the problems in a program due to which the program will stop the execution. On the other hand, exceptions are raised when some internal events occur which changes the normal flow of the program.\n",
    "\n",
    "Some of the common Exception Errors are : \n",
    " \n",
    "\n",
    "IOError: if the file can’t be opened\n",
    "KeyboardInterrupt: when an unrequired key is pressed by the user\n",
    "ValueError: when the built-in function receives a wrong argument\n",
    "EOFError: if End-Of-File is hit without reading any data\n",
    "ImportError: if it is unable to find the module"
   ]
  },
  {
   "cell_type": "markdown",
   "id": "a0b0e756",
   "metadata": {},
   "source": [
    "Q3. What is the purpose of the raise statement?"
   ]
  },
  {
   "cell_type": "markdown",
   "id": "3647c802",
   "metadata": {},
   "source": [
    "Python Raise Keyword\n",
    "Python raise Keyword is used to raise exceptions or errors. The raise keyword raises an error and stops the control flow of the program. It is used to bring up the current exception in an exception handler so that it can be handled further up the call stack.\n",
    "\n",
    "raise Exception(“user text”)\n",
    "\n",
    "Checking whether an integer is odd or even\n",
    "In the below code, we check if an integer is even or odd. if the integer is odd an exception is raised.  a  is a variable to which we assigned a number 5, as a is odd, then if loop checks if it’s an odd integer, if it’s an odd integer then an error is raised.\n",
    "\n",
    "Raising an exception Without Specifying Exception Class\n",
    "When we use the raise keyword, there’s no compulsion to give an exception class along with it. When we do not give any exception class name with the raise keyword, it reraises the exception that last occurred.\n",
    "\n",
    "Advantages of the raise keyword\n",
    "It helps us raise error exceptions when we may run into situations where execution can’t proceed.\n",
    "It helps us raise error in Python that is caught.\n",
    "Raise allows us to throw one exception at any time.\n",
    "It is useful when we want to work with input validations."
   ]
  },
  {
   "cell_type": "markdown",
   "id": "590d7a56",
   "metadata": {},
   "source": [
    "Q4. What does the assert statement do, and what other statement is it like?"
   ]
  },
  {
   "cell_type": "markdown",
   "id": "d5df278f",
   "metadata": {},
   "source": [
    "Assertions are statements that assert or state a fact confidently in your program. For example, while writing a division function, you're confident the divisor shouldn't be zero, you assert divisor is not equal to zero.\n",
    "\n",
    "Assertions are simply boolean expressions that check if the conditions return true or not. If it is true, the program does nothing and moves to the next line of code. However, if it's false, the program stops and throws an error.\n",
    "\n",
    "It is also a debugging tool as it halts the program as soon as an error occurs and displays it.\n",
    "\n",
    "Python assert Statement\n",
    "Python has built-in assert statement to use assertion condition in the program. assert statement has a condition or expression which is supposed to be always true. If the condition is false assert halts the program and gives an AssertionError.\n",
    "\n",
    "In Python we can use assert statement in two ways as mentioned above.\n",
    "\n",
    "assert statement has a condition and if the condition is not satisfied the program will stop and give AssertionError.\n",
    "assert statement can also have a condition and a optional error message. If the condition is not satisfied assert stops the program and gives AssertionError along with the error message.\n",
    "\n",
    "Assertions are the condition or boolean expression which are always supposed to be true in the code.\n",
    "assert statement takes an expression and optional message.\n",
    "assert statement is used to check types, values of argument and the output of the function.\n",
    "assert statement is used as debugging tool as it halts the program at the point where an error occurs."
   ]
  },
  {
   "cell_type": "markdown",
   "id": "d7666201",
   "metadata": {},
   "source": [
    "Q5. What is the purpose of the with/as argument, and what other statement is it like?"
   ]
  },
  {
   "cell_type": "markdown",
   "id": "168a4e1f",
   "metadata": {},
   "source": [
    "In Python, the with statement replaces a try-catch block with a concise shorthand. More importantly, it ensures closing resources right after processing them. A common example of using the with statement is reading or writing to a file. A function or class that supports the with statement is known as a context manager. A context manager allows you to open and close resources right when you want to. For example, the open() function is a context manager. When you call the open() function using the with statement, the file closes automatically after you’ve processed the file.The with statement is a replacement for commonly used try/finally error-handling statements. A common example of using the with statement is opening a file. To open and write to a file in Python, you can use the with statement as follows:\n",
    "\n",
    "with open(\"example.txt\", \"w\") as file:\n",
    "    file.write(\"Hello World!\")\n",
    "    \n",
    "The with statement automatically closes the file after you’ve completed writing it.\n",
    "\n",
    "Under the hood, the with statement replaces this kind of try-catch block:\n",
    "You might think the with statement only works with the open() function when dealing with files. But this is not the case. You can create classes and objects that support the with statement, too.\n",
    "\n",
    "A class or function that supports the with statement is known as a context manager."
   ]
  },
  {
   "cell_type": "code",
   "execution_count": null,
   "id": "7e6e4618",
   "metadata": {},
   "outputs": [],
   "source": []
  },
  {
   "cell_type": "code",
   "execution_count": null,
   "id": "8d800839",
   "metadata": {},
   "outputs": [],
   "source": []
  }
 ],
 "metadata": {
  "kernelspec": {
   "display_name": "Python 3 (ipykernel)",
   "language": "python",
   "name": "python3"
  },
  "language_info": {
   "codemirror_mode": {
    "name": "ipython",
    "version": 3
   },
   "file_extension": ".py",
   "mimetype": "text/x-python",
   "name": "python",
   "nbconvert_exporter": "python",
   "pygments_lexer": "ipython3",
   "version": "3.10.9"
  }
 },
 "nbformat": 4,
 "nbformat_minor": 5
}
