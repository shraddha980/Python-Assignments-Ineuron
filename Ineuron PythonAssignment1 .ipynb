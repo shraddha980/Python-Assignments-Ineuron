{
 "cells": [
  {
   "cell_type": "markdown",
   "id": "62f33bb1",
   "metadata": {},
   "source": [
    "Q1. What is the purpose of Python's OOP?"
   ]
  },
  {
   "cell_type": "markdown",
   "id": "43212b24",
   "metadata": {},
   "source": [
    "OOP, or Object-Oriented Programming, is a programming paradigm used in many languages, including Python. In OOP, you can model real-world concepts using classes and objects. You can break down complex problems into smaller, more manageable parts. This makes the code reusable, maintainable, and scalable. \n",
    "\n",
    "In Python, OOP is vital because it allows you to write more structured and efficient code. OOP in Python supports code reusability through inheritance. Using OOP in Python can make your development process more efficient and your code more readable.\n",
    "\n",
    "A class in Python is like a blueprint for creating objects. A class defines properties and methods that are common to all objects created from it. In Python, you use the class keyword to define a class. \n",
    "Classes help organize code by grouping related attributes and functions, promoting reusability and modularity. For instance, if you’re creating a program to manage a library, you might have classes for books, authors, and borrowers, each with its specific attributes and methods.\n",
    "\n",
    "An object in Python is an instance of a class. You can think of it as a specific realization of the blueprint provided by the class. An object contains data in the form of attributes and code in the form of methods. When you create an object, you are essentially creating a variable that has all the properties and behaviors defined in the class. \n",
    "For example, if you have a class for cars, an object could represent a specific car, such as a Honda Civic, with attributes like color and speed, and methods like start and stop."
   ]
  },
  {
   "cell_type": "markdown",
   "id": "9e76f4e7",
   "metadata": {},
   "source": [
    "Q2. Where does an inheritance search look for an attribute?"
   ]
  },
  {
   "cell_type": "markdown",
   "id": "9d16f804",
   "metadata": {},
   "source": [
    "Inheritance allows a class to inherit attributes and methods from another class. You can create a new class – known as the child class – based on an existing class – known as the parent class – and add new features or modify existing ones. \n",
    "\n",
    "To implement inheritance in Python, you define the new class and put the name of the parent class in parentheses. \n",
    "\n",
    "For example, if you want a class Dog to inherit from a class Animal, you would write class Dog(Animal):. This way, the Dog class would have access to all the attributes and methods defined in Animal, allowing for code reusability and better organization."
   ]
  },
  {
   "cell_type": "markdown",
   "id": "914d468d",
   "metadata": {},
   "source": [
    "Q3. How do you distinguish between a class object and an instance object?"
   ]
  },
  {
   "cell_type": "markdown",
   "id": "d5d4ca80",
   "metadata": {},
   "source": [
    "The object is an instance of a class. A class is like a blueprint or template that defines the properties and behavior of objects. When we create an object we are creating an instance of that class.So, while the terms 'object' and 'instance' are interchangeable, the term 'instance' refers to an object's relationship to its class.\n",
    "\n",
    "// Class House describes what a house is\n",
    "class House {\n",
    "    // ...\n",
    "}\n",
    "\n",
    "// You can use class House to create objects (instances of class House)\n",
    "House myHouse = new House();\n",
    "House sistersresidence = new House();"
   ]
  },
  {
   "cell_type": "markdown",
   "id": "729c91bf",
   "metadata": {},
   "source": [
    "Q4. What makes the first argument in a class’s method function special?"
   ]
  },
  {
   "cell_type": "markdown",
   "id": "32f4a391",
   "metadata": {},
   "source": [
    "In object-oriented programming, whenever we define methods for a class, we use self as the first parameter in each case.\n",
    "\n",
    "class Cat:\n",
    "    def __init__(self, name, age):\n",
    "        self.name = name\n",
    "        self.age = age\n",
    "\n",
    "    def info(self):\n",
    "        print(f\"I am a cat. My name is {self.name}. I am {self.age} years old.\")\n",
    "\n",
    "    def make_sound(self):\n",
    "        print(\"Meow\")\n",
    "        \n",
    "In this case all the methods, including __init__, have the first parameter as self.\n",
    "The self keyword is used to represent an instance (object) of the given class. In this case, the two Cat objects cat1 and cat2 have their own name and age attributes. If there was no self argument, the same class couldn't hold the information for both these objects.\n",
    "\n",
    "However, since the class is just a blueprint, self allows access to the attributes and methods of each object in python. This allows each object to have its own attributes and methods. Thus, even long before creating these objects, we reference the objects as self while defining the class."
   ]
  },
  {
   "cell_type": "markdown",
   "id": "b026f8c8",
   "metadata": {},
   "source": [
    "Q5. What is the purpose of the __init__ method?"
   ]
  },
  {
   "cell_type": "markdown",
   "id": "6565c249",
   "metadata": {},
   "source": [
    "The __init__ method, on the other hand, is an instance method that is responsible for initializing the newly created object.The method takes the object as its first argument (self), followed by any additional arguments that need to be passed to it.\n",
    "\n",
    " class MyClass:\n",
    "    def __init__(self, *args, **kwargs):\n",
    "        self.attribute = 'value'\n",
    "        \n",
    "You should use __init__ when you need to initialize the object. For example, you might want to use __init__ to:\n",
    "\n",
    "Set the object’s attributes.\n",
    "Call the object’s superclass’ __init__ method.\n",
    "Perform other initialization tasks. "
   ]
  },
  {
   "cell_type": "markdown",
   "id": "dc91244d",
   "metadata": {},
   "source": [
    "Q6. What is the process for creating a class instance?"
   ]
  },
  {
   "cell_type": "markdown",
   "id": "5c0ef502",
   "metadata": {},
   "source": [
    "You can use classes to hold class (or shared) attributes or to create class instances. To create an instance of a class, you call the class as if it were a function. For example, consider the following class:\n",
    "\n",
    "class MyClass:\n",
    "    pass\n",
    "    \n",
    "Here, the pass statement is used because a statement is required to complete the class, but no action is required programmatically.\n",
    "\n",
    "The following statement creates an instance of the class MyClass:\n",
    "\n",
    "    x = MyClass()"
   ]
  },
  {
   "cell_type": "markdown",
   "id": "54e834e7",
   "metadata": {},
   "source": [
    "Q7. What is the process for creating a class?"
   ]
  },
  {
   "cell_type": "markdown",
   "id": "15fc85fd",
   "metadata": {},
   "source": [
    "Python is a popular scripting language. It also supports the object-oriented programming paradigm concepts. Object-Oriented Programming in Python involves object creation through Class, Inheritance, Polymorphism, and Encapsulation. A class is like a blueprint that bundles different types of items under one roof. Python can have multiple classes in one Python script. Each class contains its own attributes, instances, and methods to maintain the state of the class. Python classes have the ability to protect the data from outside threats. Classes are accessed from an entity called objects. It has methods called member functions to modify the state of the class. Assume your class to be a house that contains house details like room, kitchen, doors, etc. Likewise, Class has different attributes called data members that tell us about the class.\n",
    "\n",
    "A program of a class is generally easy to read, maintain, and understand. A class, functions as a template that defines the basic characteristics of a particular object.\n",
    "\n",
    "Important Points\n",
    "Classes are created using class keyword.\n",
    "A colon (:) is used after the class name.\n",
    "The class is made up of attributes (data) and methods (functions).\n",
    "Attributes that apply to the whole class are defined first and are called class attributes.\n",
    "Attributes can be accessed using the dot (.) operator via objects."
   ]
  },
  {
   "cell_type": "markdown",
   "id": "c44967bf",
   "metadata": {},
   "source": [
    "Q8. How would you define the superclasses of a class?"
   ]
  },
  {
   "cell_type": "markdown",
   "id": "93379e47",
   "metadata": {},
   "source": [
    "The class from which a class inherits is called the parent or superclass. A class which inherits from a superclass is called a subclass, also called heir class or child class. Superclasses are sometimes called ancestors as well. There exists a hierarchical relationship between classes. It's similar to relationships or categorizations that we know from real life. Think about vehicles, for example. Bikes, cars, buses and trucks are vehicles. Pick-ups, vans, sports cars, convertibles and estate cars are all cars and by being cars they are vehicles as well. We could implement a vehicle class in Python, which might have methods like accelerate and brake. Cars, Buses and Trucks and Bikes can be implemented as subclasses which will inherit these methods from vehicle."
   ]
  },
  {
   "cell_type": "code",
   "execution_count": null,
   "id": "536fc1ce",
   "metadata": {},
   "outputs": [],
   "source": []
  },
  {
   "cell_type": "code",
   "execution_count": null,
   "id": "6d09d07d",
   "metadata": {},
   "outputs": [],
   "source": []
  }
 ],
 "metadata": {
  "kernelspec": {
   "display_name": "Python 3 (ipykernel)",
   "language": "python",
   "name": "python3"
  },
  "language_info": {
   "codemirror_mode": {
    "name": "ipython",
    "version": 3
   },
   "file_extension": ".py",
   "mimetype": "text/x-python",
   "name": "python",
   "nbconvert_exporter": "python",
   "pygments_lexer": "ipython3",
   "version": "3.10.9"
  }
 },
 "nbformat": 4,
 "nbformat_minor": 5
}
