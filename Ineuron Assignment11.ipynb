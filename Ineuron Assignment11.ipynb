{
 "cells": [
  {
   "cell_type": "markdown",
   "id": "7ec91c9d",
   "metadata": {},
   "source": [
    "Q1. What is the concept of a metaclass?"
   ]
  },
  {
   "cell_type": "markdown",
   "id": "0f9cbba6",
   "metadata": {},
   "source": [
    "Metaclasses allow for code not only to manipulate data, but to manipulate classes. Often this change happens when an object of the class is instantiated. Using metaclasses also helps to abstract our code, making it more readable and helping to reduce the amount of code written by avoiding repetition in code.\n",
    "\n",
    "A metaclass might be created that prohibits classes that are instances of the metaclass from being created more than once. This is an example of the Singleton design pattern, which can be helpful for creating classes that connect to external sources, as it prevents more than one connection from being open at a time.\n",
    "\n",
    "Metaclasses allow for something called metaprogramming. Metaprogramming is the creation of classes that assist programmers when writing code by creating an infrastructure that the programmer can build on top of, rather than starting from scratch. Metaclasses provide these frameworks through their attributes, methods, and objects that the programmer can use.\n",
    "\n",
    "This metaprogramming nature of the metaclass means that often metaclasses are used by programmers, but are less often created by them. However, they are extremely useful for programmers creating the frameworks that so many other programmers use.\n",
    "\n",
    "A metaclass is a class that allows for other classes to be instantiated as objects of the metaclass.\n",
    "\n",
    "In our example, the type class is an example of a metaclass, and the list class is an instance (or object) of the type class.\n",
    "\n",
    "class ExampleMetaClass(type):\n",
    "    pass\n",
    "\n",
    "\n",
    "class SubClass(metaclass=ExampleMetaClass):\n",
    "    pass\n",
    "\n",
    "\n",
    "subclass_object = SubClass()\n",
    "\n",
    "Here we create a metaclass called ExampleMetaClass. Then we create a class called SubClass that takes ExampleMetaClass as a keyword argument. This is how SubClass is instantiated as an object of ExampleMetaClass."
   ]
  },
  {
   "cell_type": "markdown",
   "id": "67cc85f5",
   "metadata": {},
   "source": [
    "Q2. What is the best way to declare a class's metaclass?"
   ]
  },
  {
   "cell_type": "markdown",
   "id": "0c282983",
   "metadata": {},
   "source": [
    "There are several ways to do this, but one way is to set __metaclass__ at the module level. This way, all classes of this module will be created using this metaclass, and we just have to tell the metaclass to turn all attributes to uppercase."
   ]
  },
  {
   "cell_type": "markdown",
   "id": "dffbd827",
   "metadata": {},
   "source": [
    "Q3. How do class decorators overlap with metaclasses for handling classes?"
   ]
  },
  {
   "cell_type": "markdown",
   "id": "0556a6b2",
   "metadata": {},
   "source": [
    "Everything is an object in Python, including classes. Hence, if classes are an object, they must be created by another class also called as Metaclass.So, a metaclass is just another class that creates class objects. Usually, type is the built-in metaclass Python uses for every class. But we can also create our own metaclasses with custom behavior.To fully understand Metaclasses, one needs to thoroughly understand type().\n",
    "\n",
    "The main purpose of a metaclass is to change the class automatically when it's created.\n",
    "\n",
    "To use class as a metaclass we pass metaclass=ClassName as a class parameter. The metaclass itself is implemented like a normal class with any behavior we want. Usually the __new__ function is implemented.\n",
    "\n",
    "This meta class simply prints all attributes, and then creates and returns a new class by using the type() function.\n",
    "\n",
    "Note that there’s output without creating an instance of the class because the __new__() method is called when the class is created.\n",
    "\n",
    "Using Metaclasses, the user can perform multitude of validations and modification such as changing variable names, raising error on receiving an invalid data type, checking inheritance levels, etc."
   ]
  },
  {
   "cell_type": "markdown",
   "id": "912cb680",
   "metadata": {},
   "source": [
    "    Q4. How do class decorators overlap with metaclasses for handling instances?"
   ]
  },
  {
   "cell_type": "markdown",
   "id": "1d50b13e",
   "metadata": {},
   "source": [
    "Decorators are much, much simpler and more limited -- and therefore should be preferred whenever the desired effect can be achieved with either a metaclass or a class decorator.\n",
    "\n",
    "Anything you can do with a class decorator, you can of course do with a custom metaclass (just apply the functionality of the \"decorator function\", i.e., the one that takes a class object and modifies it, in the course of the metaclass's __new__ or __init__ that make the class object!-).\n",
    "\n",
    "There are many things you can do in a custom metaclass but not in a decorator (unless the decorator internally generates and applies a custom metaclass, of course -- but that's cheating;-)... and even then, in Python 3, there are things you can only do with a custom metaclass, not after the fact... but that's a pretty advanced sub-niche of your question, so let me give simpler examples).\n",
    "\n",
    "For example, suppose you want to make a class object X such that print X (or in Python 3 print(X) of course;-) displays peekaboo!. You cannot possibly do that without a custom metaclass, because the metaclass's override of __str__ is the crucial actor here, i.e., you need a def __str__(cls): return \"peekaboo!\" in the custom metaclass of class X.\n",
    "\n",
    "The same applies to all magic methods, i.e., to all kinds of operations as applied to the class object itself (as opposed to, ones applied to its instances, which use magic methods as defined in the class -- operations on the class object itself use magic methods as defined in the metaclass)."
   ]
  },
  {
   "cell_type": "markdown",
   "id": "58360415",
   "metadata": {},
   "source": []
  }
 ],
 "metadata": {
  "kernelspec": {
   "display_name": "Python 3 (ipykernel)",
   "language": "python",
   "name": "python3"
  },
  "language_info": {
   "codemirror_mode": {
    "name": "ipython",
    "version": 3
   },
   "file_extension": ".py",
   "mimetype": "text/x-python",
   "name": "python",
   "nbconvert_exporter": "python",
   "pygments_lexer": "ipython3",
   "version": "3.10.9"
  }
 },
 "nbformat": 4,
 "nbformat_minor": 5
}
