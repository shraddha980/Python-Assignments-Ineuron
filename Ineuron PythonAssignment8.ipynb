{
 "cells": [
  {
   "cell_type": "markdown",
   "id": "88567dbc",
   "metadata": {},
   "source": [
    "Q1. What are the two latest user-defined exception constraints in Python 3.X?"
   ]
  },
  {
   "cell_type": "markdown",
   "id": "9f15ef8f",
   "metadata": {},
   "source": [
    "When we write programs in python for real life applications, there are many constraints on the values which the variables can take in the program. For example, age cannot have a negative value. When a person inputs a negative value for age, the program should show an error message. But these types of constraints  cannot be applied in the python programs automatically. To handle these types of errors and force constraints on values, we use user defined exceptions in python. In this article we will look at different methods by which we can implement user defined exceptions in python.\n",
    "\n",
    "What are user defined exceptions in python?\n",
    "User defined exceptions in python are created by programmers to enforce constraints on the values which the variables in the program can take. Python has many built in exceptions which are raised when there is some error in the program. A program automatically terminates after showing which inbuilt exception has occurred while executing the program when it reaches into an undesired state. We can stop the program from entering into an undesired state by enforcing constraints using user defined exceptions.User defined exceptions can be implemented by raising an exception explicitly, by using assert statement or by defining custom classes for user defined exceptions. We will study each method one by one in this article.\n",
    "\n",
    "Using Assert statements to implement user defined exceptions in python\n",
    "We can use assert statement to implement constraints on values of our variable in python. When, the condition given in assert statement is not met, the program gives AssertionError in output.\n",
    "\n",
    "The syntax for assert statement in python is assert condition where condition can be any conditional statement which evaluates to True or False. When the condition in assert statement evaluates to True, the program works normally. When the condition in the assert statement evaluates to False, the program gives AssertionError.\n",
    "\n",
    "\n",
    "Defining custom classes for user defined exceptions\n",
    "\n",
    "To create a user defined exception, we create a class with desired exception name which should inherit Exception class. After that, we can raise the exception in our code anywhere according to our need to implement constraints.\n",
    "To generate a user defined exception, we use the “raise” keyword when a certain condition is met. The exception is then handled by the except block of the code. We then use pass statement. pass statement is used to show that we will not implement anything in our custom exception class. It is used as a placeholder and does nothing, still we have to use it because if we leave the body of our custom class empty, python interpreter will show that there is error in our code."
   ]
  },
  {
   "cell_type": "markdown",
   "id": "575d4910",
   "metadata": {},
   "source": [
    "Q2. How are class-based exceptions that have been raised matched to handlers?"
   ]
  },
  {
   "cell_type": "markdown",
   "id": "902063ed",
   "metadata": {},
   "source": [
    "Class-based exception handling is based on exception classes. Exception classes can be defined by the user with the Exception Builder in the ABAP Workbench. A series of predefined exception classes is also available. In an exception situation, an exception is represented by an exception object, in other words, by an instance of an exception class. The attributes of an exception object may contain information on the error situation. All exception classes are part of an inheritance hierarchy with a common superclass, CX_ROOT.\n",
    "\n",
    "The use of class-based exceptions is not restricted to ABAP Objects. On the contrary, class-based exceptions are designed to replace the previous concepts . Class-based exceptions can, therefore, be raised and handled in all ABAP contexts (programs, processing blocks). In particular, all the previous catchable runtime errors can be handled as class-based exceptions.\n",
    "\n",
    "Class-based exceptions are either raised by the ABAP statement RAISE EXCEPTION or by the ABAP runtime environment. If a class-based exception occurs, the system interrupts the normal program flow and tries to find a suitable handler. If it does not find a handler, a runtime error occurs.\n",
    "\n",
    "Handlers are not only defined for the statements within a program but are defined for entire call sequences. Exceptions that are raised in procedures but are not handled in the procedure itself are forwarded to the caller. The caller can either handle the exception or forward it. To ensure that the caller of a procedure knows which exceptions may occur in a procedure, all the unhandled exceptions of the procedure must usually be listed in their interface after the RAISING interface parameter. This rule can be circumvented using specific exception classes.\n",
    "\n",
    "Handlers are defined for one or more exception classes. To define handlers for all the subordinate classes of the exception classes, a superclass is specified. This enables entire groups of related exceptions to be handled.\n",
    "\n",
    "Grouping self-defined and predefined exceptions on the basis of exception classes provides users with the option of raising all the exceptions themselves. It also offers the advantage of consistent error handling throughout the entire program flow. The ABAP syntax for class-based exceptions results in a clear distinction between normal program processing and error handling. The syntax check supports the programming of the exception handling as far as possible by identifying exceptions that have not been handled or forwarded."
   ]
  },
  {
   "cell_type": "markdown",
   "id": "b1064b32",
   "metadata": {},
   "source": [
    "Q3. Describe two methods for attaching context information to exception artefacts."
   ]
  },
  {
   "cell_type": "markdown",
   "id": "b19d2c9e",
   "metadata": {},
   "source": [
    "It's possible to log additional context manually when invoking the logger.There's no direct way to add context to messages logged by the application's exception handler. It's somewhat achievable though, by leveraging the ability to override the context() (for globally-configurable context) and notably exceptionContext() (for exception-specific context) methods in App\\Exceptions\\Handler, and somehow passing the context via the exception thrown in application code.\n",
    "\n",
    "I currently do the latter with an ExceptionWithContext interface (as described in the implementation suggestion below), and various application exceptions implement this context. I then override App\\Exceptions\\Handler::exceptionContext() to check whether the caught exception implements this interface, and fetch its context if it does.\n",
    "\n",
    "There's not automatic way to do the same with manually logged exceptions."
   ]
  },
  {
   "cell_type": "markdown",
   "id": "35040de9",
   "metadata": {},
   "source": [
    "Q4. Describe two methods for specifying the text of an exception object's error message."
   ]
  },
  {
   "cell_type": "markdown",
   "id": "534ba2c9",
   "metadata": {},
   "source": [
    "In this section, we will learn how to print exception messages in Java by using different methods of the Java Throwable class. The Throwable class provides the following three methods to print the exception message:\n",
    "\n",
    "Using printStackTrace Method\n",
    "Using getMessage() Method\n",
    "Using toString() Method\n",
    "\n",
    "Using printStackTrace() Method\n",
    "The printStackTrace() method is defined in the Throwable class that belongs to java.lang package. The method prints the name, description (such as / by zero), and the stack trace (line number and class name where exception raised) of an exception. The stack trace traces where the next exception occurs. It is widely used to print the exception message.\n",
    "\n",
    "printStackTrace()\tThe method prints this throwable and its backtrace to the standard error stream.\n",
    "public void printStackTrace(PrintStream s)\tThe method prints throwable and its backtrace to the specified print stream.\n",
    "public void printStackTrace(PrintWriter s)\tThe method prints throwable and its backtrace to the specified print writer.\n",
    "\n",
    "To understand the concept of the printStackTrace() method, first, we will create a Java program that raised a divide by zero exception. In this program, we will not use the printStackTrace() method to print the exception.\n",
    "\n",
    "Using getMessage() Method\n",
    "The getMessage() method is also defined in the Throwable class that belongs to java.lang package. The method prints only the message of an exception. It neither prints the name of the exception nor the description. It is widely used to print the exception message.\n",
    "\n",
    "Using toString() Method\n",
    "The toString() method of the Throwable class overrides the toString() method of the Object class. It prints the short description of an exception. It does not show the other information (like exception name and stack trace). It is not widely used to print the exception message."
   ]
  },
  {
   "cell_type": "markdown",
   "id": "a202b18a",
   "metadata": {},
   "source": [
    "Q5. Why do you no longer use string-based exceptions?"
   ]
  },
  {
   "cell_type": "markdown",
   "id": "85008f74",
   "metadata": {},
   "source": [
    "**Disadvantages of Using Exceptions:**\n",
    "\n",
    "1. **Performance Overhead**: Throwing and catching exceptions can introduce performance overhead, especially in situations where exceptions are thrown frequently.\n",
    "\n",
    "2. **Resource Management**: Exceptions can complicate resource management (e.g., memory, file handles) since resources might not be released properly if an exception is thrown within a try block.\n",
    "\n",
    "3. **Complex Control Flow**: Exception handling can introduce complex control flow, especially if exceptions are nested or caught at different levels of the call stack.\n",
    "\n",
    "4. **Misuse of Exceptions**: Overusing exceptions for flow control or non-exceptional situations can lead to confusing and error-prone code.\n",
    "\n",
    "**Advantages of Using Error Codes:**\n",
    "\n",
    "1. **Performance**: Using error codes can be more efficient than exceptions, as there is no overhead associated with stack unwinding or object creation.\n",
    "\n",
    "2. **Simplicity**: Error codes provide a straightforward way to indicate errors and handle them using standard control flow constructs like if statements.\n",
    "\n",
    "3. **Resource Management**: With error codes, you have more control over resource management, as you can explicitly release resources in case of errors.\n",
    "\n",
    "**Disadvantages of Using Error Codes:**\n",
    "\n",
    "1. **Readability**: Code can become cluttered with error-checking statements after every function call, making it harder to read and understand.\n",
    "\n",
    "2. **Error Propagation**: Error codes need to be propagated through multiple layers of functions, leading to code duplication and potentially making error handling more error-prone.\n",
    "\n",
    "3. **Lack of Uniformity**: Error codes might not provide a consistent approach to error handling across the application, leading to ad hoc solutions and varying practices."
   ]
  },
  {
   "cell_type": "code",
   "execution_count": null,
   "id": "37365658",
   "metadata": {},
   "outputs": [],
   "source": []
  }
 ],
 "metadata": {
  "kernelspec": {
   "display_name": "Python 3 (ipykernel)",
   "language": "python",
   "name": "python3"
  },
  "language_info": {
   "codemirror_mode": {
    "name": "ipython",
    "version": 3
   },
   "file_extension": ".py",
   "mimetype": "text/x-python",
   "name": "python",
   "nbconvert_exporter": "python",
   "pygments_lexer": "ipython3",
   "version": "3.10.9"
  }
 },
 "nbformat": 4,
 "nbformat_minor": 5
}
