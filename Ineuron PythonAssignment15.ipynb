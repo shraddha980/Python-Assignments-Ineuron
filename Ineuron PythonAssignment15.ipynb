{
 "cells": [
  {
   "cell_type": "markdown",
   "id": "48582eb8",
   "metadata": {},
   "source": [
    "1.\tWhat are the new features added in Python 3.8 version?"
   ]
  },
  {
   "cell_type": "markdown",
   "id": "3cd9623e",
   "metadata": {},
   "source": [
    "> New Features In Python 3.8\n",
    "> Assignment Expressions\n",
    "> Positional-Only Parameters\n",
    "> Parallel Filesystem Cache\n",
    "> Debug Build\n",
    "> f-Strings Support\n",
    "> Python Run-time Audit Hooks\n",
    "> Python Initialization Configuration\n",
    "> Vectorcall\n",
    "> Pickle Protocol 5\n",
    "> New Modules\n",
    "> Other Language Changes\n",
    "\n",
    "Parallel Filesystem Cache For Compiled Bytecode Files\n",
    "There is a new PYTHONPYCACHEPREFIX setting in python 3.8, it configures the implicit bytecode cache to use a separate parallel filesystem tree.\n",
    "\n",
    "The location of the cache is reported in sys.pycache_prefix and none indicates the default location in __pycache__ directories.\n",
    "\n",
    "PYTHONPYCACHEPREFIX is also available as -X pycache_prefix in Python 3.8.\n",
    "\n",
    "Debug Build Uses The Same ABI as Release Build\n",
    "With Python 3.8, the same ABI is used whether it is built in debug mode or in release mode. When Python used UNIX in debug mode, it is now possible to load the C extensions that are built in release mode and the extensions build using the stable ABI.\n",
    "\n",
    "Release build and Debug build have become ABI compatible with Python 3.8. On UNIX, C extensions no longer have to be linked to libpython except for android and Cygwin. We can load the C extensions easily using the shared library python.\n",
    "\n",
    "Now, when the UNIX is built in debug mode, import also looks for C extensions compiled in release mode and stable ABI.\n",
    "\n",
    "f-Strings Support = For Self Documenting Expressions And Debugging\n",
    "Python 3.8 has added a = specifier for f- strings. Let us take an example to understand this.\n",
    "\n",
    "user = 'eric_idle'\n",
    "member_since = date(1975, 7, 31)\n",
    "f'{user=} {member_since=}'\n",
    "Output: \"user='eric_idle' member_since=datetime.date(1975, 7, 31)\"\n",
    "\n",
    "The usual f-strings specifier allows more control over how the result is displayed, but the = specifier displays the whole expression so the calculations can be displayed.\n",
    "\n",
    "Python Runtime Audit Hooks\n",
    "The new python release has added an audit hook and a verified open hook, they allow applications and frameworks written in pure Python code to take advantage of extra notifications. They also allow system administrators or embedders to deploy builds of python where auditing is always available.\n",
    "\n",
    "Audit Hook\n",
    "\n",
    "An audit hook in an application is an exit point that allows the auditor to add the modules subsequently. This happens by activating the hook to transfer control to an audit module.\n",
    "\n",
    "Verified Open Hook\n",
    "\n",
    "The verified open hook allows python embedders to integrate with operating system support when launching scripts or importing Python code.\n",
    "\n",
    "Python Initialization Configuration\n",
    "Python 3.8 adds new C API to configure the initialization for finer control and better error reporting. The following new structures are added.\n",
    "\n",
    "PyConfig\n",
    "PyPreConfig\n",
    "PyStatus\n",
    "PyWideStringLight\n",
    "\n",
    "Vectorcall\n",
    "It is a fast calling protocol for CPython, It is added to the Python/C API. It is basically meant to formalize the existing optimizations that were already made for various classes. The vector call only deals with Python/C API and does not make any changes to the Python language and standard libraries.\n",
    "\n",
    "Any extension type that implements a callable can use this protocol in Python 3.8.\n",
    "\n",
    "Although it has been added in the current release, it is still provisional and will be made fully public in the next release with Python 3.9.\n",
    "\n",
    "Pickle Protocol 5 With Out-Of-Band Data Buffers\n",
    "The process in which a Python object hierarchy is converted to byte stream is known as “pickling”. It is also known as serialization, marshalling, etc.\n",
    "\n",
    "When pickle is used to transfer large data transfers between the python processes in order to take full advantage of multi-core or multi-machine processing, it is important to optimize the transfer by reducing memory copies.\n",
    "\n",
    "The pickle 5 protocol introduces support for out-of-band buffers where data can be transmitted separately from the main pickle stream.\n",
    "\n",
    "It covers the extra metadata needed for out-of-band data buffers\n",
    "Pickle 5 has a new PickleBuffer type for __reduce_ex__ implementations to return out-of-band data buffers\n",
    "It has a new buffer_callback parameter when pickling, to handle out-of-band data buffers\n",
    "It also has a new buffers parameter when unpickling to provide out-of-band data buffers.\n",
    "New Modules\n",
    "There has been an addition of a new module in Python 3.8, the new importlib.metadata module provides provisional support for reading metadata from third party packages. Let us take a look at an example in which it is used to extract an installed package’s version number, list of entry points, etc."
   ]
  },
  {
   "cell_type": "markdown",
   "id": "f04de3b7",
   "metadata": {},
   "source": [
    "2.\tWhat is monkey patching in Python?"
   ]
  },
  {
   "cell_type": "markdown",
   "id": "eec91076",
   "metadata": {},
   "source": [
    "Monkey patching in python refers to modifying or updating a piece of code or class or any module at the runtime. In simple words, we can change the behavior or working of a class/ module at the runtime without changing the whole python code. "
   ]
  },
  {
   "cell_type": "markdown",
   "id": "18ee29a5",
   "metadata": {},
   "source": [
    "3.\tWhat is the difference between a shallow copy and deep copy?"
   ]
  },
  {
   "cell_type": "markdown",
   "id": "5436a13b",
   "metadata": {},
   "source": [
    "Shallow Copy\n",
    "\n",
    "A bitwise copy of an object, where a new object is created and it has the same copy of the values in the original object, is called a Shallow copy. If any of the object fields refer to the other object then in such cases only the reference address is copied.\n",
    "\n",
    "> In Shallow copy, a copy of the original object is stored and only the reference address is finally copied.\n",
    "> Shallow copy is faster than Deep copy.\n",
    "> The changes made in the copied object also reflect the original object.\n",
    "> It stores references of the object in the main memory.\n",
    "\n",
    "Deep Copy\n",
    "\n",
    "When the process of copying occurs repetitively and a copy of the object is always copied in another object, then it is called deep copy. In this process, initially, a new collection of the object is constructed, and then the copies of the child object frequently populate those found in the original.\n",
    "\n",
    "> In Deep copy, the copy of the original object and the repetitive copies both are stored.\n",
    "> Deep copy is slower than Shallow copy.\n",
    "> There is no reflection on the original object when the changes are made in the copied object.\n",
    "> It stores copies of the object values."
   ]
  },
  {
   "cell_type": "markdown",
   "id": "6f122520",
   "metadata": {},
   "source": [
    "4.\tWhat is the maximum possible length of an identifier?"
   ]
  },
  {
   "cell_type": "markdown",
   "id": "35aafc81",
   "metadata": {},
   "source": [
    "The maximum possible length of an identifier in the Python language is 79 characters. Moreover, the PEP-8 prevents you from breaking the limit of 79 characters while creating identifiers."
   ]
  },
  {
   "cell_type": "markdown",
   "id": "179fe62e",
   "metadata": {},
   "source": [
    "5.\tWhat is generator comprehension?"
   ]
  },
  {
   "cell_type": "markdown",
   "id": "fc40ac63",
   "metadata": {},
   "source": [
    "A generator comprehension is a single-line specification for defining a generator in Python. It is absolutely essential to learn this syntax in order to write simple and readable code.\n",
    "\n",
    "Generator comprehensions are not the only method for defining generators in Python. One can define a generator similar to the way one can define a function (which we will encounter soon). See this section of the official Python tutorial if you are interested in diving deeper into generators."
   ]
  },
  {
   "cell_type": "code",
   "execution_count": null,
   "id": "54ec793a",
   "metadata": {},
   "outputs": [],
   "source": []
  }
 ],
 "metadata": {
  "kernelspec": {
   "display_name": "Python 3 (ipykernel)",
   "language": "python",
   "name": "python3"
  },
  "language_info": {
   "codemirror_mode": {
    "name": "ipython",
    "version": 3
   },
   "file_extension": ".py",
   "mimetype": "text/x-python",
   "name": "python",
   "nbconvert_exporter": "python",
   "pygments_lexer": "ipython3",
   "version": "3.10.9"
  }
 },
 "nbformat": 4,
 "nbformat_minor": 5
}
