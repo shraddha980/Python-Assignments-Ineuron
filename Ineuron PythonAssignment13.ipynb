{
 "cells": [
  {
   "cell_type": "markdown",
   "id": "503545a9",
   "metadata": {},
   "source": [
    "Q1. Can you create a programme or function that employs both positive and negative indexing? Is there any repercussion if you do so?"
   ]
  },
  {
   "cell_type": "code",
   "execution_count": 16,
   "id": "178828dc",
   "metadata": {},
   "outputs": [],
   "source": [
    "def indexing(list):\n",
    "    print(\"Positive Index: \",list[1])\n",
    "    print(\"Negative Index: \",list[-1])    "
   ]
  },
  {
   "cell_type": "code",
   "execution_count": 6,
   "id": "dd8e6d1d",
   "metadata": {},
   "outputs": [],
   "source": [
    "list = [1,2,3,4,5]"
   ]
  },
  {
   "cell_type": "code",
   "execution_count": 7,
   "id": "e2367169",
   "metadata": {},
   "outputs": [
    {
     "name": "stdout",
     "output_type": "stream",
     "text": [
      "Positive Index:  2\n",
      "Negative Index:  5\n"
     ]
    }
   ],
   "source": [
    "indexing(list)"
   ]
  },
  {
   "cell_type": "markdown",
   "id": "12f3e981",
   "metadata": {},
   "source": [
    "Q2. What is the most effective way of starting with 1,000 elements in a Python list? Assume that all elements should be set to the same value."
   ]
  },
  {
   "cell_type": "code",
   "execution_count": 17,
   "id": "cc8e3f00",
   "metadata": {},
   "outputs": [],
   "source": [
    "list = [2]*1000"
   ]
  },
  {
   "cell_type": "markdown",
   "id": "78c4b480",
   "metadata": {},
   "source": [
    "Q3. How do you slice a list to get any other part while missing the rest? (For example, suppose you want to make a new list with the elements first, third, fifth, seventh, and so on.)"
   ]
  },
  {
   "cell_type": "code",
   "execution_count": 10,
   "id": "831b64f2",
   "metadata": {},
   "outputs": [],
   "source": [
    "list3 = [1,2,3,4,5,6,7,8,9,10]"
   ]
  },
  {
   "cell_type": "code",
   "execution_count": 13,
   "id": "4aa9c3e4",
   "metadata": {},
   "outputs": [
    {
     "name": "stdout",
     "output_type": "stream",
     "text": [
      "2\n",
      "4\n",
      "6\n",
      "8\n",
      "10\n"
     ]
    }
   ],
   "source": [
    "for i in list3:\n",
    "    if i%2 == 0:\n",
    "        print(i)"
   ]
  },
  {
   "cell_type": "markdown",
   "id": "fe350651",
   "metadata": {},
   "source": [
    "Q4. Explain the distinctions between indexing and slicing."
   ]
  },
  {
   "cell_type": "markdown",
   "id": "257977a2",
   "metadata": {},
   "source": [
    "Indexing\n",
    "The term \"indexing\" refers to refers to an element of an iterable based on its position inside the iterable.\n",
    "\n",
    "The indexing begins from 0. The first element in the sequence is represented by index 0.\n",
    "\n",
    "Negative indexing begins from -1. The last element in the sequence is represented by index -1.\n",
    "\n",
    "Each character in a string corresponds to an index number, and each character can be accessed by its index number. There are two ways to access characters in a String\n",
    "\n",
    "Accessing string characters using positive indexing\n",
    "Accessing string characters using negative indexing\n",
    "\n",
    "> It returns only 1 item\n",
    "> An IndexError will be thrown if you attempt to use an index that is too large.\n",
    "> We cannot change the length of the list by item assignment in indexing.\n",
    "> We can assign a single element or an iterable to indexing.\n",
    "\n",
    "Slicing\n",
    "The term \"slicing\" refers to obtaining a subset of elements from an iterable based on their indices.\n",
    "\n",
    "We create a substring by slicing a string, which is effectively a string that exists within another string. We utilize slicing when we only need a portion of the string and not the entire string.\n",
    "\n",
    "Parameters\n",
    "start - index from where to start\n",
    "end - ending index\n",
    "step - numbers of jumps/increment to take between i.e stepsize\n",
    "\n",
    "> It returns a new list/tuple\n",
    "> When used for slicing, out-of-range indexes are handled gently.\n",
    "> We can change the length of the list or even clear it by assigning items to slicing.\n",
    "> When we assign a single element to slicing, we get a TypeError. It will only accept iterables.\n"
   ]
  },
  {
   "cell_type": "markdown",
   "id": "20c345f6",
   "metadata": {},
   "source": [
    "Q5. What happens if one of the slicing expression's indexes is out of range?\n"
   ]
  },
  {
   "cell_type": "markdown",
   "id": "457652f0",
   "metadata": {},
   "source": [
    "The slicing operation doesn't raise an error if both your start and stop indices are larger than the sequence length. This is in contrast to simple indexing—if you index an element that is out of bounds, Python will throw an index out of bounds error. However, with slicing it simply returns an empty sequence"
   ]
  },
  {
   "cell_type": "code",
   "execution_count": 18,
   "id": "4d8c21ea",
   "metadata": {},
   "outputs": [],
   "source": [
    "lst = [1, 2, 3]"
   ]
  },
  {
   "cell_type": "code",
   "execution_count": 19,
   "id": "67c6af09",
   "metadata": {},
   "outputs": [
    {
     "data": {
      "text/plain": [
       "[]"
      ]
     },
     "execution_count": 19,
     "metadata": {},
     "output_type": "execute_result"
    }
   ],
   "source": [
    "lst[100:200]"
   ]
  },
  {
   "cell_type": "markdown",
   "id": "02af4258",
   "metadata": {},
   "source": [
    "Q6. If you pass a list to a function, and if you want the function to be able to change the values of the list—so that the list is different after the function returns—what action should you avoid?"
   ]
  },
  {
   "cell_type": "markdown",
   "id": "a605e1fe",
   "metadata": {},
   "source": [
    "A frequent source of bugs in some languages, is to modify a mutable collection while iterating over it. Appending to a list while iterating over it can cause an infinite loop, while removing from it can cause elements to be skipped. Therefore, it is desirable to prevent this from happening."
   ]
  },
  {
   "cell_type": "markdown",
   "id": "d51dc038",
   "metadata": {},
   "source": [
    "Q7. What is the concept of an unbalanced matrix?"
   ]
  },
  {
   "cell_type": "markdown",
   "id": "f986ae91",
   "metadata": {},
   "source": [
    "A matrix is balanced if all cells in the matrix are balanced and a cell of the matrix is balanced if the number of cells in that matrix that are adjacent to that cell is strictly greater than the value written in this cell. \n",
    "Adjacent cell means cells in the top, down, left, and right cell of each cell if it exists."
   ]
  },
  {
   "cell_type": "markdown",
   "id": "208e12d4",
   "metadata": {},
   "source": [
    "Q8. Why is it necessary to use either list comprehension or a loop to create arbitrarily large matrices?"
   ]
  },
  {
   "cell_type": "markdown",
   "id": "e743eae6",
   "metadata": {},
   "source": [
    "Python for-loops are highly valuable in dealing with repetitive programming tasks, however, there are other that can let you achieve the same result more efficiently. List comprehensions and dictionary comprehensions are a powerful substitute to for-loops and also lambda functions. Not only do list and dictionary comprehensions make code more concise and easier to read, they are also faster than traditional for-loops. \n",
    "\n",
    "list = [expression for element in iterable if condition]\n",
    "\n",
    "The syntax consists of the following parts:\n",
    "\n",
    "expression is a calculation performed on an element. The element resulting from the expression appends to the newly created list.\n",
    "element is an item extracted from an iterable on which the expression applies.\n",
    "iterable is an iterable from which the elements are extracted.\n",
    "condition is an optional check whether the element meets the provided condition.\n",
    "\n",
    "List comprehension is often preferable in Python compared to loops and other methods. The main benefits of using list comprehensions are:\n",
    "\n",
    "Convenience. List comprehensions are very convenient to use for simple list operations. Compared to other methods, the code is shorter and easy to read.\n",
    "Readability. Due to its compactness, list comprehensions are generally readable and shorter than alternative list methods.\n",
    "Reduced redundancy. List comprehensions reduce boilerplate code. The syntax avoids defining an empty list and then populating the list with elements one by one based on some condition.\n",
    "Immutability. The new list does not affect or change the original list or its values."
   ]
  },
  {
   "cell_type": "code",
   "execution_count": null,
   "id": "0fce642c",
   "metadata": {},
   "outputs": [],
   "source": []
  }
 ],
 "metadata": {
  "kernelspec": {
   "display_name": "Python 3 (ipykernel)",
   "language": "python",
   "name": "python3"
  },
  "language_info": {
   "codemirror_mode": {
    "name": "ipython",
    "version": 3
   },
   "file_extension": ".py",
   "mimetype": "text/x-python",
   "name": "python",
   "nbconvert_exporter": "python",
   "pygments_lexer": "ipython3",
   "version": "3.10.9"
  }
 },
 "nbformat": 4,
 "nbformat_minor": 5
}
